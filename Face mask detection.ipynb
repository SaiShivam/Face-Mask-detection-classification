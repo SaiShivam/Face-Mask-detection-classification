{
 "cells": [
  {
   "cell_type": "code",
   "execution_count": 1,
   "metadata": {},
   "outputs": [
    {
     "name": "stdout",
     "output_type": "stream",
     "text": [
      "[name: \"/device:CPU:0\"\n",
      "device_type: \"CPU\"\n",
      "memory_limit: 268435456\n",
      "locality {\n",
      "}\n",
      "incarnation: 3386701128886527583\n",
      ", name: \"/device:GPU:0\"\n",
      "device_type: \"GPU\"\n",
      "memory_limit: 3149044121\n",
      "locality {\n",
      "  bus_id: 1\n",
      "  links {\n",
      "  }\n",
      "}\n",
      "incarnation: 3621311786279042231\n",
      "physical_device_desc: \"device: 0, name: GeForce GTX 1050, pci bus id: 0000:01:00.0, compute capability: 6.1\"\n",
      "]\n"
     ]
    }
   ],
   "source": [
    "from tensorflow.python.client import device_lib\n",
    "print(device_lib.list_local_devices())"
   ]
  },
  {
   "cell_type": "code",
   "execution_count": 83,
   "metadata": {},
   "outputs": [],
   "source": [
    "from keras.layers import Conv2D, MaxPooling2D, Flatten, Dense, Dropout\n",
    "from keras.models import Sequential\n",
    "from keras import optimizers\n",
    "import matplotlib.pyplot as plt\n",
    "from keras.preprocessing.image import load_img, img_to_array, array_to_img\n",
    "%matplotlib inline\n",
    "import glob\n",
    "import numpy as np\n",
    "import os\n",
    "import shutil\n",
    "np.random.seed(42)"
   ]
  },
  {
   "cell_type": "code",
   "execution_count": 84,
   "metadata": {},
   "outputs": [],
   "source": [
    "mask_files = glob.glob(r'D:\\observations-master\\observations-master\\experiements\\data\\with_mask\\*')"
   ]
  },
  {
   "cell_type": "code",
   "execution_count": 14,
   "metadata": {
    "collapsed": true
   },
   "outputs": [
    {
     "data": {
      "text/plain": [
       "['D:\\\\observations-master\\\\observations-master\\\\experiements\\\\data\\\\with_mask\\\\0-with-mask.jpg',\n",
       " 'D:\\\\observations-master\\\\observations-master\\\\experiements\\\\data\\\\with_mask\\\\1-with-mask.jpg',\n",
       " 'D:\\\\observations-master\\\\observations-master\\\\experiements\\\\data\\\\with_mask\\\\10-with-mask.jpg',\n",
       " 'D:\\\\observations-master\\\\observations-master\\\\experiements\\\\data\\\\with_mask\\\\100-with-mask.jpg',\n",
       " 'D:\\\\observations-master\\\\observations-master\\\\experiements\\\\data\\\\with_mask\\\\101-with-mask.jpg',\n",
       " 'D:\\\\observations-master\\\\observations-master\\\\experiements\\\\data\\\\with_mask\\\\103-with-mask.jpg',\n",
       " 'D:\\\\observations-master\\\\observations-master\\\\experiements\\\\data\\\\with_mask\\\\104-with-mask.jpg',\n",
       " 'D:\\\\observations-master\\\\observations-master\\\\experiements\\\\data\\\\with_mask\\\\105-with-mask.jpg',\n",
       " 'D:\\\\observations-master\\\\observations-master\\\\experiements\\\\data\\\\with_mask\\\\106-with-mask.jpg',\n",
       " 'D:\\\\observations-master\\\\observations-master\\\\experiements\\\\data\\\\with_mask\\\\107-with-mask.jpg',\n",
       " 'D:\\\\observations-master\\\\observations-master\\\\experiements\\\\data\\\\with_mask\\\\108-with-mask.jpg',\n",
       " 'D:\\\\observations-master\\\\observations-master\\\\experiements\\\\data\\\\with_mask\\\\109-with-mask.jpg',\n",
       " 'D:\\\\observations-master\\\\observations-master\\\\experiements\\\\data\\\\with_mask\\\\11-with-mask.jpg',\n",
       " 'D:\\\\observations-master\\\\observations-master\\\\experiements\\\\data\\\\with_mask\\\\110-with-mask.jpg',\n",
       " 'D:\\\\observations-master\\\\observations-master\\\\experiements\\\\data\\\\with_mask\\\\111-with-mask.jpg',\n",
       " 'D:\\\\observations-master\\\\observations-master\\\\experiements\\\\data\\\\with_mask\\\\112-with-mask.jpg',\n",
       " 'D:\\\\observations-master\\\\observations-master\\\\experiements\\\\data\\\\with_mask\\\\113-with-mask.jpg',\n",
       " 'D:\\\\observations-master\\\\observations-master\\\\experiements\\\\data\\\\with_mask\\\\114-with-mask.jpg',\n",
       " 'D:\\\\observations-master\\\\observations-master\\\\experiements\\\\data\\\\with_mask\\\\115-with-mask.jpg',\n",
       " 'D:\\\\observations-master\\\\observations-master\\\\experiements\\\\data\\\\with_mask\\\\116-with-mask.jpg',\n",
       " 'D:\\\\observations-master\\\\observations-master\\\\experiements\\\\data\\\\with_mask\\\\117-with-mask.jpg',\n",
       " 'D:\\\\observations-master\\\\observations-master\\\\experiements\\\\data\\\\with_mask\\\\118-with-mask.jpg',\n",
       " 'D:\\\\observations-master\\\\observations-master\\\\experiements\\\\data\\\\with_mask\\\\119-with-mask.jpg',\n",
       " 'D:\\\\observations-master\\\\observations-master\\\\experiements\\\\data\\\\with_mask\\\\12-with-mask.jpg',\n",
       " 'D:\\\\observations-master\\\\observations-master\\\\experiements\\\\data\\\\with_mask\\\\120-with-mask.jpg',\n",
       " 'D:\\\\observations-master\\\\observations-master\\\\experiements\\\\data\\\\with_mask\\\\121-with-mask.jpg',\n",
       " 'D:\\\\observations-master\\\\observations-master\\\\experiements\\\\data\\\\with_mask\\\\122-with-mask.jpg',\n",
       " 'D:\\\\observations-master\\\\observations-master\\\\experiements\\\\data\\\\with_mask\\\\123-with-mask.jpg',\n",
       " 'D:\\\\observations-master\\\\observations-master\\\\experiements\\\\data\\\\with_mask\\\\124-with-mask.jpg',\n",
       " 'D:\\\\observations-master\\\\observations-master\\\\experiements\\\\data\\\\with_mask\\\\125-with-mask.jpg',\n",
       " 'D:\\\\observations-master\\\\observations-master\\\\experiements\\\\data\\\\with_mask\\\\126-with-mask.jpg',\n",
       " 'D:\\\\observations-master\\\\observations-master\\\\experiements\\\\data\\\\with_mask\\\\127-with-mask.jpg',\n",
       " 'D:\\\\observations-master\\\\observations-master\\\\experiements\\\\data\\\\with_mask\\\\128-with-mask.jpg',\n",
       " 'D:\\\\observations-master\\\\observations-master\\\\experiements\\\\data\\\\with_mask\\\\129-with-mask.jpg',\n",
       " 'D:\\\\observations-master\\\\observations-master\\\\experiements\\\\data\\\\with_mask\\\\13-with-mask.jpg',\n",
       " 'D:\\\\observations-master\\\\observations-master\\\\experiements\\\\data\\\\with_mask\\\\131-with-mask.jpg',\n",
       " 'D:\\\\observations-master\\\\observations-master\\\\experiements\\\\data\\\\with_mask\\\\132-with-mask.jpg',\n",
       " 'D:\\\\observations-master\\\\observations-master\\\\experiements\\\\data\\\\with_mask\\\\133-with-mask.jpg',\n",
       " 'D:\\\\observations-master\\\\observations-master\\\\experiements\\\\data\\\\with_mask\\\\134-with-mask.jpg',\n",
       " 'D:\\\\observations-master\\\\observations-master\\\\experiements\\\\data\\\\with_mask\\\\135-with-mask.jpg',\n",
       " 'D:\\\\observations-master\\\\observations-master\\\\experiements\\\\data\\\\with_mask\\\\136-with-mask.jpg',\n",
       " 'D:\\\\observations-master\\\\observations-master\\\\experiements\\\\data\\\\with_mask\\\\137-with-mask.jpg',\n",
       " 'D:\\\\observations-master\\\\observations-master\\\\experiements\\\\data\\\\with_mask\\\\138-with-mask.jpg',\n",
       " 'D:\\\\observations-master\\\\observations-master\\\\experiements\\\\data\\\\with_mask\\\\139-with-mask.jpg',\n",
       " 'D:\\\\observations-master\\\\observations-master\\\\experiements\\\\data\\\\with_mask\\\\14-with-mask.jpg',\n",
       " 'D:\\\\observations-master\\\\observations-master\\\\experiements\\\\data\\\\with_mask\\\\140-with-mask.jpg',\n",
       " 'D:\\\\observations-master\\\\observations-master\\\\experiements\\\\data\\\\with_mask\\\\141-with-mask.jpg',\n",
       " 'D:\\\\observations-master\\\\observations-master\\\\experiements\\\\data\\\\with_mask\\\\143-with-mask.jpg',\n",
       " 'D:\\\\observations-master\\\\observations-master\\\\experiements\\\\data\\\\with_mask\\\\144-with-mask.jpg',\n",
       " 'D:\\\\observations-master\\\\observations-master\\\\experiements\\\\data\\\\with_mask\\\\146-with-mask.jpg',\n",
       " 'D:\\\\observations-master\\\\observations-master\\\\experiements\\\\data\\\\with_mask\\\\147-with-mask.jpg',\n",
       " 'D:\\\\observations-master\\\\observations-master\\\\experiements\\\\data\\\\with_mask\\\\148-with-mask.jpg',\n",
       " 'D:\\\\observations-master\\\\observations-master\\\\experiements\\\\data\\\\with_mask\\\\15-with-mask.jpg',\n",
       " 'D:\\\\observations-master\\\\observations-master\\\\experiements\\\\data\\\\with_mask\\\\150-with-mask.jpg',\n",
       " 'D:\\\\observations-master\\\\observations-master\\\\experiements\\\\data\\\\with_mask\\\\151-with-mask.jpg',\n",
       " 'D:\\\\observations-master\\\\observations-master\\\\experiements\\\\data\\\\with_mask\\\\152-with-mask.jpg',\n",
       " 'D:\\\\observations-master\\\\observations-master\\\\experiements\\\\data\\\\with_mask\\\\153-with-mask.jpg',\n",
       " 'D:\\\\observations-master\\\\observations-master\\\\experiements\\\\data\\\\with_mask\\\\154-with-mask.jpg',\n",
       " 'D:\\\\observations-master\\\\observations-master\\\\experiements\\\\data\\\\with_mask\\\\155-with-mask.jpg',\n",
       " 'D:\\\\observations-master\\\\observations-master\\\\experiements\\\\data\\\\with_mask\\\\156-with-mask.jpg',\n",
       " 'D:\\\\observations-master\\\\observations-master\\\\experiements\\\\data\\\\with_mask\\\\157-with-mask.jpg',\n",
       " 'D:\\\\observations-master\\\\observations-master\\\\experiements\\\\data\\\\with_mask\\\\158-with-mask.jpg',\n",
       " 'D:\\\\observations-master\\\\observations-master\\\\experiements\\\\data\\\\with_mask\\\\159-with-mask.jpg',\n",
       " 'D:\\\\observations-master\\\\observations-master\\\\experiements\\\\data\\\\with_mask\\\\16-with-mask.jpg',\n",
       " 'D:\\\\observations-master\\\\observations-master\\\\experiements\\\\data\\\\with_mask\\\\160-with-mask.jpg',\n",
       " 'D:\\\\observations-master\\\\observations-master\\\\experiements\\\\data\\\\with_mask\\\\161-with-mask.jpg',\n",
       " 'D:\\\\observations-master\\\\observations-master\\\\experiements\\\\data\\\\with_mask\\\\162-with-mask.jpg',\n",
       " 'D:\\\\observations-master\\\\observations-master\\\\experiements\\\\data\\\\with_mask\\\\163-with-mask.jpg',\n",
       " 'D:\\\\observations-master\\\\observations-master\\\\experiements\\\\data\\\\with_mask\\\\165-with-mask.jpg',\n",
       " 'D:\\\\observations-master\\\\observations-master\\\\experiements\\\\data\\\\with_mask\\\\167-with-mask.jpg',\n",
       " 'D:\\\\observations-master\\\\observations-master\\\\experiements\\\\data\\\\with_mask\\\\168-with-mask.jpg',\n",
       " 'D:\\\\observations-master\\\\observations-master\\\\experiements\\\\data\\\\with_mask\\\\169-with-mask.jpg',\n",
       " 'D:\\\\observations-master\\\\observations-master\\\\experiements\\\\data\\\\with_mask\\\\17-with-mask.jpg',\n",
       " 'D:\\\\observations-master\\\\observations-master\\\\experiements\\\\data\\\\with_mask\\\\170-with-mask.jpg',\n",
       " 'D:\\\\observations-master\\\\observations-master\\\\experiements\\\\data\\\\with_mask\\\\171-with-mask.jpg',\n",
       " 'D:\\\\observations-master\\\\observations-master\\\\experiements\\\\data\\\\with_mask\\\\172-with-mask.jpg',\n",
       " 'D:\\\\observations-master\\\\observations-master\\\\experiements\\\\data\\\\with_mask\\\\173-with-mask.jpg',\n",
       " 'D:\\\\observations-master\\\\observations-master\\\\experiements\\\\data\\\\with_mask\\\\174-with-mask.jpg',\n",
       " 'D:\\\\observations-master\\\\observations-master\\\\experiements\\\\data\\\\with_mask\\\\175-with-mask.jpg',\n",
       " 'D:\\\\observations-master\\\\observations-master\\\\experiements\\\\data\\\\with_mask\\\\176-with-mask.jpg',\n",
       " 'D:\\\\observations-master\\\\observations-master\\\\experiements\\\\data\\\\with_mask\\\\177-with-mask.jpg',\n",
       " 'D:\\\\observations-master\\\\observations-master\\\\experiements\\\\data\\\\with_mask\\\\179-with-mask.jpg',\n",
       " 'D:\\\\observations-master\\\\observations-master\\\\experiements\\\\data\\\\with_mask\\\\18-with-mask.jpg',\n",
       " 'D:\\\\observations-master\\\\observations-master\\\\experiements\\\\data\\\\with_mask\\\\180-with-mask.jpg',\n",
       " 'D:\\\\observations-master\\\\observations-master\\\\experiements\\\\data\\\\with_mask\\\\181-with-mask.jpg',\n",
       " 'D:\\\\observations-master\\\\observations-master\\\\experiements\\\\data\\\\with_mask\\\\182-with-mask.jpg',\n",
       " 'D:\\\\observations-master\\\\observations-master\\\\experiements\\\\data\\\\with_mask\\\\183-with-mask.jpg',\n",
       " 'D:\\\\observations-master\\\\observations-master\\\\experiements\\\\data\\\\with_mask\\\\184-with-mask.jpg',\n",
       " 'D:\\\\observations-master\\\\observations-master\\\\experiements\\\\data\\\\with_mask\\\\185-with-mask.jpg',\n",
       " 'D:\\\\observations-master\\\\observations-master\\\\experiements\\\\data\\\\with_mask\\\\186-with-mask.jpg',\n",
       " 'D:\\\\observations-master\\\\observations-master\\\\experiements\\\\data\\\\with_mask\\\\187-with-mask.jpg',\n",
       " 'D:\\\\observations-master\\\\observations-master\\\\experiements\\\\data\\\\with_mask\\\\189-with-mask.jpg',\n",
       " 'D:\\\\observations-master\\\\observations-master\\\\experiements\\\\data\\\\with_mask\\\\19-with-mask.jpg',\n",
       " 'D:\\\\observations-master\\\\observations-master\\\\experiements\\\\data\\\\with_mask\\\\190-with-mask.jpg',\n",
       " 'D:\\\\observations-master\\\\observations-master\\\\experiements\\\\data\\\\with_mask\\\\192-with-mask.jpg',\n",
       " 'D:\\\\observations-master\\\\observations-master\\\\experiements\\\\data\\\\with_mask\\\\193-with-mask.jpg',\n",
       " 'D:\\\\observations-master\\\\observations-master\\\\experiements\\\\data\\\\with_mask\\\\194-with-mask.jpg',\n",
       " 'D:\\\\observations-master\\\\observations-master\\\\experiements\\\\data\\\\with_mask\\\\195-with-mask.jpg',\n",
       " 'D:\\\\observations-master\\\\observations-master\\\\experiements\\\\data\\\\with_mask\\\\196-with-mask.jpg',\n",
       " 'D:\\\\observations-master\\\\observations-master\\\\experiements\\\\data\\\\with_mask\\\\197-with-mask.jpg',\n",
       " 'D:\\\\observations-master\\\\observations-master\\\\experiements\\\\data\\\\with_mask\\\\198-with-mask.jpg',\n",
       " 'D:\\\\observations-master\\\\observations-master\\\\experiements\\\\data\\\\with_mask\\\\2-with-mask.jpg',\n",
       " 'D:\\\\observations-master\\\\observations-master\\\\experiements\\\\data\\\\with_mask\\\\200-with-mask.jpg',\n",
       " 'D:\\\\observations-master\\\\observations-master\\\\experiements\\\\data\\\\with_mask\\\\201-with-mask.jpg',\n",
       " 'D:\\\\observations-master\\\\observations-master\\\\experiements\\\\data\\\\with_mask\\\\202-with-mask.jpg',\n",
       " 'D:\\\\observations-master\\\\observations-master\\\\experiements\\\\data\\\\with_mask\\\\203-with-mask.jpg',\n",
       " 'D:\\\\observations-master\\\\observations-master\\\\experiements\\\\data\\\\with_mask\\\\204-with-mask.jpg',\n",
       " 'D:\\\\observations-master\\\\observations-master\\\\experiements\\\\data\\\\with_mask\\\\205-with-mask.jpg',\n",
       " 'D:\\\\observations-master\\\\observations-master\\\\experiements\\\\data\\\\with_mask\\\\206-with-mask.jpg',\n",
       " 'D:\\\\observations-master\\\\observations-master\\\\experiements\\\\data\\\\with_mask\\\\207-with-mask.jpg',\n",
       " 'D:\\\\observations-master\\\\observations-master\\\\experiements\\\\data\\\\with_mask\\\\209-with-mask.jpg',\n",
       " 'D:\\\\observations-master\\\\observations-master\\\\experiements\\\\data\\\\with_mask\\\\21-with-mask.jpg',\n",
       " 'D:\\\\observations-master\\\\observations-master\\\\experiements\\\\data\\\\with_mask\\\\211-with-mask.jpg',\n",
       " 'D:\\\\observations-master\\\\observations-master\\\\experiements\\\\data\\\\with_mask\\\\212-with-mask.jpg',\n",
       " 'D:\\\\observations-master\\\\observations-master\\\\experiements\\\\data\\\\with_mask\\\\214-with-mask.jpg',\n",
       " 'D:\\\\observations-master\\\\observations-master\\\\experiements\\\\data\\\\with_mask\\\\215-with-mask.jpg',\n",
       " 'D:\\\\observations-master\\\\observations-master\\\\experiements\\\\data\\\\with_mask\\\\217-with-mask.jpg',\n",
       " 'D:\\\\observations-master\\\\observations-master\\\\experiements\\\\data\\\\with_mask\\\\218-with-mask.jpg',\n",
       " 'D:\\\\observations-master\\\\observations-master\\\\experiements\\\\data\\\\with_mask\\\\219-with-mask.jpg',\n",
       " 'D:\\\\observations-master\\\\observations-master\\\\experiements\\\\data\\\\with_mask\\\\221-with-mask.jpg',\n",
       " 'D:\\\\observations-master\\\\observations-master\\\\experiements\\\\data\\\\with_mask\\\\222-with-mask.jpg',\n",
       " 'D:\\\\observations-master\\\\observations-master\\\\experiements\\\\data\\\\with_mask\\\\223-with-mask.jpg',\n",
       " 'D:\\\\observations-master\\\\observations-master\\\\experiements\\\\data\\\\with_mask\\\\224-with-mask.jpg',\n",
       " 'D:\\\\observations-master\\\\observations-master\\\\experiements\\\\data\\\\with_mask\\\\225-with-mask.jpg',\n",
       " 'D:\\\\observations-master\\\\observations-master\\\\experiements\\\\data\\\\with_mask\\\\226-with-mask.jpg',\n",
       " 'D:\\\\observations-master\\\\observations-master\\\\experiements\\\\data\\\\with_mask\\\\227-with-mask.jpg',\n",
       " 'D:\\\\observations-master\\\\observations-master\\\\experiements\\\\data\\\\with_mask\\\\228-with-mask.jpg',\n",
       " 'D:\\\\observations-master\\\\observations-master\\\\experiements\\\\data\\\\with_mask\\\\229-with-mask.jpg',\n",
       " 'D:\\\\observations-master\\\\observations-master\\\\experiements\\\\data\\\\with_mask\\\\23-with-mask.jpg',\n",
       " 'D:\\\\observations-master\\\\observations-master\\\\experiements\\\\data\\\\with_mask\\\\231-with-mask.jpg',\n",
       " 'D:\\\\observations-master\\\\observations-master\\\\experiements\\\\data\\\\with_mask\\\\232-with-mask.jpg',\n",
       " 'D:\\\\observations-master\\\\observations-master\\\\experiements\\\\data\\\\with_mask\\\\233-with-mask.jpg',\n",
       " 'D:\\\\observations-master\\\\observations-master\\\\experiements\\\\data\\\\with_mask\\\\234-with-mask.jpg',\n",
       " 'D:\\\\observations-master\\\\observations-master\\\\experiements\\\\data\\\\with_mask\\\\235-with-mask.jpg',\n",
       " 'D:\\\\observations-master\\\\observations-master\\\\experiements\\\\data\\\\with_mask\\\\236-with-mask.jpg',\n",
       " 'D:\\\\observations-master\\\\observations-master\\\\experiements\\\\data\\\\with_mask\\\\237-with-mask.jpg',\n",
       " 'D:\\\\observations-master\\\\observations-master\\\\experiements\\\\data\\\\with_mask\\\\238-with-mask.jpg',\n",
       " 'D:\\\\observations-master\\\\observations-master\\\\experiements\\\\data\\\\with_mask\\\\239-with-mask.jpg',\n",
       " 'D:\\\\observations-master\\\\observations-master\\\\experiements\\\\data\\\\with_mask\\\\24-with-mask.jpg',\n",
       " 'D:\\\\observations-master\\\\observations-master\\\\experiements\\\\data\\\\with_mask\\\\240-with-mask.jpg',\n",
       " 'D:\\\\observations-master\\\\observations-master\\\\experiements\\\\data\\\\with_mask\\\\241-with-mask.jpg',\n",
       " 'D:\\\\observations-master\\\\observations-master\\\\experiements\\\\data\\\\with_mask\\\\242-with-mask.jpg',\n",
       " 'D:\\\\observations-master\\\\observations-master\\\\experiements\\\\data\\\\with_mask\\\\243-with-mask.jpg',\n",
       " 'D:\\\\observations-master\\\\observations-master\\\\experiements\\\\data\\\\with_mask\\\\244-with-mask.jpg',\n",
       " 'D:\\\\observations-master\\\\observations-master\\\\experiements\\\\data\\\\with_mask\\\\245-with-mask.jpg',\n",
       " 'D:\\\\observations-master\\\\observations-master\\\\experiements\\\\data\\\\with_mask\\\\246-with-mask.jpg',\n",
       " 'D:\\\\observations-master\\\\observations-master\\\\experiements\\\\data\\\\with_mask\\\\25-with-mask.jpg',\n",
       " 'D:\\\\observations-master\\\\observations-master\\\\experiements\\\\data\\\\with_mask\\\\251-with-mask.jpg',\n",
       " 'D:\\\\observations-master\\\\observations-master\\\\experiements\\\\data\\\\with_mask\\\\252-with-mask.jpg',\n",
       " 'D:\\\\observations-master\\\\observations-master\\\\experiements\\\\data\\\\with_mask\\\\253-with-mask.jpg',\n",
       " 'D:\\\\observations-master\\\\observations-master\\\\experiements\\\\data\\\\with_mask\\\\254-with-mask.jpg',\n",
       " 'D:\\\\observations-master\\\\observations-master\\\\experiements\\\\data\\\\with_mask\\\\255-with-mask.jpg',\n",
       " 'D:\\\\observations-master\\\\observations-master\\\\experiements\\\\data\\\\with_mask\\\\256-with-mask.jpg',\n",
       " 'D:\\\\observations-master\\\\observations-master\\\\experiements\\\\data\\\\with_mask\\\\257-with-mask.jpg',\n",
       " 'D:\\\\observations-master\\\\observations-master\\\\experiements\\\\data\\\\with_mask\\\\259-with-mask.jpg',\n",
       " 'D:\\\\observations-master\\\\observations-master\\\\experiements\\\\data\\\\with_mask\\\\26-with-mask.jpg',\n",
       " 'D:\\\\observations-master\\\\observations-master\\\\experiements\\\\data\\\\with_mask\\\\260-with-mask.jpg',\n",
       " 'D:\\\\observations-master\\\\observations-master\\\\experiements\\\\data\\\\with_mask\\\\261-with-mask.jpg',\n",
       " 'D:\\\\observations-master\\\\observations-master\\\\experiements\\\\data\\\\with_mask\\\\262-with-mask.jpg',\n",
       " 'D:\\\\observations-master\\\\observations-master\\\\experiements\\\\data\\\\with_mask\\\\263-with-mask.jpg',\n",
       " 'D:\\\\observations-master\\\\observations-master\\\\experiements\\\\data\\\\with_mask\\\\267-with-mask.jpg',\n",
       " 'D:\\\\observations-master\\\\observations-master\\\\experiements\\\\data\\\\with_mask\\\\268-with-mask.jpg',\n",
       " 'D:\\\\observations-master\\\\observations-master\\\\experiements\\\\data\\\\with_mask\\\\269-with-mask.jpg',\n",
       " 'D:\\\\observations-master\\\\observations-master\\\\experiements\\\\data\\\\with_mask\\\\27-with-mask.jpg',\n",
       " 'D:\\\\observations-master\\\\observations-master\\\\experiements\\\\data\\\\with_mask\\\\270-with-mask.jpg',\n",
       " 'D:\\\\observations-master\\\\observations-master\\\\experiements\\\\data\\\\with_mask\\\\272-with-mask.jpg',\n",
       " 'D:\\\\observations-master\\\\observations-master\\\\experiements\\\\data\\\\with_mask\\\\273-with-mask.jpg',\n",
       " 'D:\\\\observations-master\\\\observations-master\\\\experiements\\\\data\\\\with_mask\\\\274-with-mask.jpg',\n",
       " 'D:\\\\observations-master\\\\observations-master\\\\experiements\\\\data\\\\with_mask\\\\275-with-mask.jpg',\n",
       " 'D:\\\\observations-master\\\\observations-master\\\\experiements\\\\data\\\\with_mask\\\\276-with-mask.jpg',\n",
       " 'D:\\\\observations-master\\\\observations-master\\\\experiements\\\\data\\\\with_mask\\\\277-with-mask.jpg',\n",
       " 'D:\\\\observations-master\\\\observations-master\\\\experiements\\\\data\\\\with_mask\\\\278-with-mask.jpg',\n",
       " 'D:\\\\observations-master\\\\observations-master\\\\experiements\\\\data\\\\with_mask\\\\279-with-mask.jpg',\n",
       " 'D:\\\\observations-master\\\\observations-master\\\\experiements\\\\data\\\\with_mask\\\\281-with-mask.jpg',\n",
       " 'D:\\\\observations-master\\\\observations-master\\\\experiements\\\\data\\\\with_mask\\\\282-with-mask.jpg',\n",
       " 'D:\\\\observations-master\\\\observations-master\\\\experiements\\\\data\\\\with_mask\\\\283-with-mask.jpg',\n",
       " 'D:\\\\observations-master\\\\observations-master\\\\experiements\\\\data\\\\with_mask\\\\284-with-mask.jpg',\n",
       " 'D:\\\\observations-master\\\\observations-master\\\\experiements\\\\data\\\\with_mask\\\\285-with-mask.jpg',\n",
       " 'D:\\\\observations-master\\\\observations-master\\\\experiements\\\\data\\\\with_mask\\\\286-with-mask.jpg',\n",
       " 'D:\\\\observations-master\\\\observations-master\\\\experiements\\\\data\\\\with_mask\\\\287-with-mask.jpg',\n",
       " 'D:\\\\observations-master\\\\observations-master\\\\experiements\\\\data\\\\with_mask\\\\288-with-mask.jpg',\n",
       " 'D:\\\\observations-master\\\\observations-master\\\\experiements\\\\data\\\\with_mask\\\\289-with-mask.jpg',\n",
       " 'D:\\\\observations-master\\\\observations-master\\\\experiements\\\\data\\\\with_mask\\\\29-with-mask.jpg',\n",
       " 'D:\\\\observations-master\\\\observations-master\\\\experiements\\\\data\\\\with_mask\\\\290-with-mask.jpg',\n",
       " 'D:\\\\observations-master\\\\observations-master\\\\experiements\\\\data\\\\with_mask\\\\291-with-mask.jpg',\n",
       " 'D:\\\\observations-master\\\\observations-master\\\\experiements\\\\data\\\\with_mask\\\\293-with-mask.jpg',\n",
       " 'D:\\\\observations-master\\\\observations-master\\\\experiements\\\\data\\\\with_mask\\\\294-with-mask.jpg',\n",
       " 'D:\\\\observations-master\\\\observations-master\\\\experiements\\\\data\\\\with_mask\\\\295-with-mask.jpg',\n",
       " 'D:\\\\observations-master\\\\observations-master\\\\experiements\\\\data\\\\with_mask\\\\296-with-mask.jpg',\n",
       " 'D:\\\\observations-master\\\\observations-master\\\\experiements\\\\data\\\\with_mask\\\\297-with-mask.jpg',\n",
       " 'D:\\\\observations-master\\\\observations-master\\\\experiements\\\\data\\\\with_mask\\\\298-with-mask.jpg',\n",
       " 'D:\\\\observations-master\\\\observations-master\\\\experiements\\\\data\\\\with_mask\\\\299-with-mask.jpg',\n",
       " 'D:\\\\observations-master\\\\observations-master\\\\experiements\\\\data\\\\with_mask\\\\3-with-mask.jpg',\n",
       " 'D:\\\\observations-master\\\\observations-master\\\\experiements\\\\data\\\\with_mask\\\\30-with-mask.jpg',\n",
       " 'D:\\\\observations-master\\\\observations-master\\\\experiements\\\\data\\\\with_mask\\\\301-with-mask.jpg',\n",
       " 'D:\\\\observations-master\\\\observations-master\\\\experiements\\\\data\\\\with_mask\\\\302-with-mask.jpg',\n",
       " 'D:\\\\observations-master\\\\observations-master\\\\experiements\\\\data\\\\with_mask\\\\303-with-mask.jpg',\n",
       " 'D:\\\\observations-master\\\\observations-master\\\\experiements\\\\data\\\\with_mask\\\\304-with-mask.jpg',\n",
       " 'D:\\\\observations-master\\\\observations-master\\\\experiements\\\\data\\\\with_mask\\\\305-with-mask.jpg',\n",
       " 'D:\\\\observations-master\\\\observations-master\\\\experiements\\\\data\\\\with_mask\\\\306-with-mask.jpg',\n",
       " 'D:\\\\observations-master\\\\observations-master\\\\experiements\\\\data\\\\with_mask\\\\307-with-mask.jpg',\n",
       " 'D:\\\\observations-master\\\\observations-master\\\\experiements\\\\data\\\\with_mask\\\\308-with-mask.jpg',\n",
       " 'D:\\\\observations-master\\\\observations-master\\\\experiements\\\\data\\\\with_mask\\\\309-with-mask.jpg',\n",
       " 'D:\\\\observations-master\\\\observations-master\\\\experiements\\\\data\\\\with_mask\\\\31-with-mask.jpg',\n",
       " 'D:\\\\observations-master\\\\observations-master\\\\experiements\\\\data\\\\with_mask\\\\311-with-mask.jpg',\n",
       " 'D:\\\\observations-master\\\\observations-master\\\\experiements\\\\data\\\\with_mask\\\\313-with-mask.jpg',\n",
       " 'D:\\\\observations-master\\\\observations-master\\\\experiements\\\\data\\\\with_mask\\\\314-with-mask.jpg',\n",
       " 'D:\\\\observations-master\\\\observations-master\\\\experiements\\\\data\\\\with_mask\\\\315-with-mask.jpg',\n",
       " 'D:\\\\observations-master\\\\observations-master\\\\experiements\\\\data\\\\with_mask\\\\316-with-mask.jpg',\n",
       " 'D:\\\\observations-master\\\\observations-master\\\\experiements\\\\data\\\\with_mask\\\\317-with-mask.jpg',\n",
       " 'D:\\\\observations-master\\\\observations-master\\\\experiements\\\\data\\\\with_mask\\\\318-with-mask.jpg',\n",
       " 'D:\\\\observations-master\\\\observations-master\\\\experiements\\\\data\\\\with_mask\\\\319-with-mask.jpg',\n",
       " 'D:\\\\observations-master\\\\observations-master\\\\experiements\\\\data\\\\with_mask\\\\32-with-mask.jpg',\n",
       " 'D:\\\\observations-master\\\\observations-master\\\\experiements\\\\data\\\\with_mask\\\\322-with-mask.jpg',\n",
       " 'D:\\\\observations-master\\\\observations-master\\\\experiements\\\\data\\\\with_mask\\\\323-with-mask.jpg',\n",
       " 'D:\\\\observations-master\\\\observations-master\\\\experiements\\\\data\\\\with_mask\\\\324-with-mask.jpg',\n",
       " 'D:\\\\observations-master\\\\observations-master\\\\experiements\\\\data\\\\with_mask\\\\325-with-mask.jpg',\n",
       " 'D:\\\\observations-master\\\\observations-master\\\\experiements\\\\data\\\\with_mask\\\\326-with-mask.jpg',\n",
       " 'D:\\\\observations-master\\\\observations-master\\\\experiements\\\\data\\\\with_mask\\\\327-with-mask.jpg',\n",
       " 'D:\\\\observations-master\\\\observations-master\\\\experiements\\\\data\\\\with_mask\\\\33-with-mask.jpg',\n",
       " 'D:\\\\observations-master\\\\observations-master\\\\experiements\\\\data\\\\with_mask\\\\330-with-mask.jpg',\n",
       " 'D:\\\\observations-master\\\\observations-master\\\\experiements\\\\data\\\\with_mask\\\\331-with-mask.jpg',\n",
       " 'D:\\\\observations-master\\\\observations-master\\\\experiements\\\\data\\\\with_mask\\\\332-with-mask.jpg',\n",
       " 'D:\\\\observations-master\\\\observations-master\\\\experiements\\\\data\\\\with_mask\\\\333-with-mask.jpg',\n",
       " 'D:\\\\observations-master\\\\observations-master\\\\experiements\\\\data\\\\with_mask\\\\334-with-mask.jpg',\n",
       " 'D:\\\\observations-master\\\\observations-master\\\\experiements\\\\data\\\\with_mask\\\\335-with-mask.jpg',\n",
       " 'D:\\\\observations-master\\\\observations-master\\\\experiements\\\\data\\\\with_mask\\\\336-with-mask.jpg',\n",
       " 'D:\\\\observations-master\\\\observations-master\\\\experiements\\\\data\\\\with_mask\\\\338-with-mask.jpg',\n",
       " 'D:\\\\observations-master\\\\observations-master\\\\experiements\\\\data\\\\with_mask\\\\339-with-mask.jpg',\n",
       " 'D:\\\\observations-master\\\\observations-master\\\\experiements\\\\data\\\\with_mask\\\\34-with-mask.jpg',\n",
       " 'D:\\\\observations-master\\\\observations-master\\\\experiements\\\\data\\\\with_mask\\\\340-with-mask.jpg',\n",
       " 'D:\\\\observations-master\\\\observations-master\\\\experiements\\\\data\\\\with_mask\\\\342-with-mask.jpg',\n",
       " 'D:\\\\observations-master\\\\observations-master\\\\experiements\\\\data\\\\with_mask\\\\343-with-mask.jpg',\n",
       " 'D:\\\\observations-master\\\\observations-master\\\\experiements\\\\data\\\\with_mask\\\\344-with-mask.jpg',\n",
       " 'D:\\\\observations-master\\\\observations-master\\\\experiements\\\\data\\\\with_mask\\\\345-with-mask.jpg',\n",
       " 'D:\\\\observations-master\\\\observations-master\\\\experiements\\\\data\\\\with_mask\\\\346-with-mask.jpg',\n",
       " 'D:\\\\observations-master\\\\observations-master\\\\experiements\\\\data\\\\with_mask\\\\347-with-mask.jpg',\n",
       " 'D:\\\\observations-master\\\\observations-master\\\\experiements\\\\data\\\\with_mask\\\\348-with-mask.jpg',\n",
       " 'D:\\\\observations-master\\\\observations-master\\\\experiements\\\\data\\\\with_mask\\\\349-with-mask.jpg',\n",
       " 'D:\\\\observations-master\\\\observations-master\\\\experiements\\\\data\\\\with_mask\\\\35-with-mask.jpg',\n",
       " 'D:\\\\observations-master\\\\observations-master\\\\experiements\\\\data\\\\with_mask\\\\351-with-mask.jpg',\n",
       " 'D:\\\\observations-master\\\\observations-master\\\\experiements\\\\data\\\\with_mask\\\\353-with-mask.jpg',\n",
       " 'D:\\\\observations-master\\\\observations-master\\\\experiements\\\\data\\\\with_mask\\\\355-with-mask.jpg',\n",
       " 'D:\\\\observations-master\\\\observations-master\\\\experiements\\\\data\\\\with_mask\\\\356-with-mask.jpg',\n",
       " 'D:\\\\observations-master\\\\observations-master\\\\experiements\\\\data\\\\with_mask\\\\357-with-mask.jpg',\n",
       " 'D:\\\\observations-master\\\\observations-master\\\\experiements\\\\data\\\\with_mask\\\\358-with-mask.jpg',\n",
       " 'D:\\\\observations-master\\\\observations-master\\\\experiements\\\\data\\\\with_mask\\\\359-with-mask.jpg',\n",
       " 'D:\\\\observations-master\\\\observations-master\\\\experiements\\\\data\\\\with_mask\\\\36-with-mask.jpg',\n",
       " 'D:\\\\observations-master\\\\observations-master\\\\experiements\\\\data\\\\with_mask\\\\362-with-mask.jpg',\n",
       " 'D:\\\\observations-master\\\\observations-master\\\\experiements\\\\data\\\\with_mask\\\\364-with-mask.jpg',\n",
       " 'D:\\\\observations-master\\\\observations-master\\\\experiements\\\\data\\\\with_mask\\\\365-with-mask.jpg',\n",
       " 'D:\\\\observations-master\\\\observations-master\\\\experiements\\\\data\\\\with_mask\\\\366-with-mask.jpg',\n",
       " 'D:\\\\observations-master\\\\observations-master\\\\experiements\\\\data\\\\with_mask\\\\368-with-mask.jpg',\n",
       " 'D:\\\\observations-master\\\\observations-master\\\\experiements\\\\data\\\\with_mask\\\\369-with-mask.jpg',\n",
       " 'D:\\\\observations-master\\\\observations-master\\\\experiements\\\\data\\\\with_mask\\\\37-with-mask.jpg',\n",
       " 'D:\\\\observations-master\\\\observations-master\\\\experiements\\\\data\\\\with_mask\\\\374-with-mask.jpg',\n",
       " 'D:\\\\observations-master\\\\observations-master\\\\experiements\\\\data\\\\with_mask\\\\375-with-mask.jpg',\n",
       " 'D:\\\\observations-master\\\\observations-master\\\\experiements\\\\data\\\\with_mask\\\\376-with-mask.jpg',\n",
       " 'D:\\\\observations-master\\\\observations-master\\\\experiements\\\\data\\\\with_mask\\\\377-with-mask.jpg',\n",
       " 'D:\\\\observations-master\\\\observations-master\\\\experiements\\\\data\\\\with_mask\\\\378-with-mask.jpg',\n",
       " 'D:\\\\observations-master\\\\observations-master\\\\experiements\\\\data\\\\with_mask\\\\379-with-mask.jpg',\n",
       " 'D:\\\\observations-master\\\\observations-master\\\\experiements\\\\data\\\\with_mask\\\\38-with-mask.jpg',\n",
       " 'D:\\\\observations-master\\\\observations-master\\\\experiements\\\\data\\\\with_mask\\\\380-with-mask.jpg',\n",
       " 'D:\\\\observations-master\\\\observations-master\\\\experiements\\\\data\\\\with_mask\\\\381-with-mask.jpg',\n",
       " 'D:\\\\observations-master\\\\observations-master\\\\experiements\\\\data\\\\with_mask\\\\382-with-mask.jpg',\n",
       " 'D:\\\\observations-master\\\\observations-master\\\\experiements\\\\data\\\\with_mask\\\\383-with-mask.jpg',\n",
       " 'D:\\\\observations-master\\\\observations-master\\\\experiements\\\\data\\\\with_mask\\\\384-with-mask.jpg',\n",
       " 'D:\\\\observations-master\\\\observations-master\\\\experiements\\\\data\\\\with_mask\\\\385-with-mask.jpg',\n",
       " 'D:\\\\observations-master\\\\observations-master\\\\experiements\\\\data\\\\with_mask\\\\386-with-mask.jpg',\n",
       " 'D:\\\\observations-master\\\\observations-master\\\\experiements\\\\data\\\\with_mask\\\\387-with-mask.jpg',\n",
       " 'D:\\\\observations-master\\\\observations-master\\\\experiements\\\\data\\\\with_mask\\\\39-with-mask.jpg',\n",
       " 'D:\\\\observations-master\\\\observations-master\\\\experiements\\\\data\\\\with_mask\\\\390-with-mask.jpg',\n",
       " 'D:\\\\observations-master\\\\observations-master\\\\experiements\\\\data\\\\with_mask\\\\391-with-mask.jpg',\n",
       " 'D:\\\\observations-master\\\\observations-master\\\\experiements\\\\data\\\\with_mask\\\\392-with-mask.jpg',\n",
       " 'D:\\\\observations-master\\\\observations-master\\\\experiements\\\\data\\\\with_mask\\\\393-with-mask.jpg',\n",
       " 'D:\\\\observations-master\\\\observations-master\\\\experiements\\\\data\\\\with_mask\\\\394-with-mask.jpg',\n",
       " 'D:\\\\observations-master\\\\observations-master\\\\experiements\\\\data\\\\with_mask\\\\395-with-mask.jpg',\n",
       " 'D:\\\\observations-master\\\\observations-master\\\\experiements\\\\data\\\\with_mask\\\\396-with-mask.jpg',\n",
       " 'D:\\\\observations-master\\\\observations-master\\\\experiements\\\\data\\\\with_mask\\\\397-with-mask.jpg',\n",
       " 'D:\\\\observations-master\\\\observations-master\\\\experiements\\\\data\\\\with_mask\\\\398-with-mask.jpg',\n",
       " 'D:\\\\observations-master\\\\observations-master\\\\experiements\\\\data\\\\with_mask\\\\399-with-mask.jpg',\n",
       " 'D:\\\\observations-master\\\\observations-master\\\\experiements\\\\data\\\\with_mask\\\\4-with-mask.jpg',\n",
       " 'D:\\\\observations-master\\\\observations-master\\\\experiements\\\\data\\\\with_mask\\\\40-with-mask.jpg',\n",
       " 'D:\\\\observations-master\\\\observations-master\\\\experiements\\\\data\\\\with_mask\\\\400-with-mask.jpg',\n",
       " 'D:\\\\observations-master\\\\observations-master\\\\experiements\\\\data\\\\with_mask\\\\401-with-mask.jpg',\n",
       " 'D:\\\\observations-master\\\\observations-master\\\\experiements\\\\data\\\\with_mask\\\\402-with-mask.jpg',\n",
       " 'D:\\\\observations-master\\\\observations-master\\\\experiements\\\\data\\\\with_mask\\\\404-with-mask.jpg',\n",
       " 'D:\\\\observations-master\\\\observations-master\\\\experiements\\\\data\\\\with_mask\\\\405-with-mask.jpg',\n",
       " 'D:\\\\observations-master\\\\observations-master\\\\experiements\\\\data\\\\with_mask\\\\406-with-mask.jpg',\n",
       " 'D:\\\\observations-master\\\\observations-master\\\\experiements\\\\data\\\\with_mask\\\\407-with-mask.jpg',\n",
       " 'D:\\\\observations-master\\\\observations-master\\\\experiements\\\\data\\\\with_mask\\\\408-with-mask.jpg',\n",
       " 'D:\\\\observations-master\\\\observations-master\\\\experiements\\\\data\\\\with_mask\\\\409-with-mask.jpg',\n",
       " 'D:\\\\observations-master\\\\observations-master\\\\experiements\\\\data\\\\with_mask\\\\41-with-mask.jpg',\n",
       " 'D:\\\\observations-master\\\\observations-master\\\\experiements\\\\data\\\\with_mask\\\\411-with-mask.jpg',\n",
       " 'D:\\\\observations-master\\\\observations-master\\\\experiements\\\\data\\\\with_mask\\\\413-with-mask.jpg',\n",
       " 'D:\\\\observations-master\\\\observations-master\\\\experiements\\\\data\\\\with_mask\\\\414-with-mask.jpg',\n",
       " 'D:\\\\observations-master\\\\observations-master\\\\experiements\\\\data\\\\with_mask\\\\415-with-mask.jpg',\n",
       " 'D:\\\\observations-master\\\\observations-master\\\\experiements\\\\data\\\\with_mask\\\\416-with-mask.jpg',\n",
       " 'D:\\\\observations-master\\\\observations-master\\\\experiements\\\\data\\\\with_mask\\\\417-with-mask.jpg',\n",
       " 'D:\\\\observations-master\\\\observations-master\\\\experiements\\\\data\\\\with_mask\\\\418-with-mask.jpg',\n",
       " 'D:\\\\observations-master\\\\observations-master\\\\experiements\\\\data\\\\with_mask\\\\419-with-mask.jpg',\n",
       " 'D:\\\\observations-master\\\\observations-master\\\\experiements\\\\data\\\\with_mask\\\\42-with-mask.jpg',\n",
       " 'D:\\\\observations-master\\\\observations-master\\\\experiements\\\\data\\\\with_mask\\\\420-with-mask.jpg',\n",
       " 'D:\\\\observations-master\\\\observations-master\\\\experiements\\\\data\\\\with_mask\\\\421-with-mask.jpg',\n",
       " 'D:\\\\observations-master\\\\observations-master\\\\experiements\\\\data\\\\with_mask\\\\422-with-mask.jpg',\n",
       " 'D:\\\\observations-master\\\\observations-master\\\\experiements\\\\data\\\\with_mask\\\\424-with-mask.jpg',\n",
       " 'D:\\\\observations-master\\\\observations-master\\\\experiements\\\\data\\\\with_mask\\\\425-with-mask.jpg',\n",
       " 'D:\\\\observations-master\\\\observations-master\\\\experiements\\\\data\\\\with_mask\\\\426-with-mask.jpg',\n",
       " 'D:\\\\observations-master\\\\observations-master\\\\experiements\\\\data\\\\with_mask\\\\427-with-mask.jpg',\n",
       " 'D:\\\\observations-master\\\\observations-master\\\\experiements\\\\data\\\\with_mask\\\\429-with-mask.jpg',\n",
       " 'D:\\\\observations-master\\\\observations-master\\\\experiements\\\\data\\\\with_mask\\\\43-with-mask.jpg',\n",
       " 'D:\\\\observations-master\\\\observations-master\\\\experiements\\\\data\\\\with_mask\\\\430-with-mask.jpg',\n",
       " 'D:\\\\observations-master\\\\observations-master\\\\experiements\\\\data\\\\with_mask\\\\431-with-mask.jpg',\n",
       " 'D:\\\\observations-master\\\\observations-master\\\\experiements\\\\data\\\\with_mask\\\\432-with-mask.jpg',\n",
       " 'D:\\\\observations-master\\\\observations-master\\\\experiements\\\\data\\\\with_mask\\\\433-with-mask.jpg',\n",
       " 'D:\\\\observations-master\\\\observations-master\\\\experiements\\\\data\\\\with_mask\\\\434-with-mask.jpg',\n",
       " 'D:\\\\observations-master\\\\observations-master\\\\experiements\\\\data\\\\with_mask\\\\435-with-mask.jpg',\n",
       " 'D:\\\\observations-master\\\\observations-master\\\\experiements\\\\data\\\\with_mask\\\\436-with-mask.jpg',\n",
       " 'D:\\\\observations-master\\\\observations-master\\\\experiements\\\\data\\\\with_mask\\\\438-with-mask.jpg',\n",
       " 'D:\\\\observations-master\\\\observations-master\\\\experiements\\\\data\\\\with_mask\\\\439-with-mask.jpg',\n",
       " 'D:\\\\observations-master\\\\observations-master\\\\experiements\\\\data\\\\with_mask\\\\440-with-mask.jpg',\n",
       " 'D:\\\\observations-master\\\\observations-master\\\\experiements\\\\data\\\\with_mask\\\\441-with-mask.jpg',\n",
       " 'D:\\\\observations-master\\\\observations-master\\\\experiements\\\\data\\\\with_mask\\\\442-with-mask.jpg',\n",
       " 'D:\\\\observations-master\\\\observations-master\\\\experiements\\\\data\\\\with_mask\\\\443-with-mask.jpg',\n",
       " 'D:\\\\observations-master\\\\observations-master\\\\experiements\\\\data\\\\with_mask\\\\444-with-mask.jpg',\n",
       " 'D:\\\\observations-master\\\\observations-master\\\\experiements\\\\data\\\\with_mask\\\\445-with-mask.jpg',\n",
       " 'D:\\\\observations-master\\\\observations-master\\\\experiements\\\\data\\\\with_mask\\\\446-with-mask.jpg',\n",
       " 'D:\\\\observations-master\\\\observations-master\\\\experiements\\\\data\\\\with_mask\\\\447-with-mask.jpg',\n",
       " 'D:\\\\observations-master\\\\observations-master\\\\experiements\\\\data\\\\with_mask\\\\448-with-mask.jpg',\n",
       " 'D:\\\\observations-master\\\\observations-master\\\\experiements\\\\data\\\\with_mask\\\\449-with-mask.jpg',\n",
       " 'D:\\\\observations-master\\\\observations-master\\\\experiements\\\\data\\\\with_mask\\\\45-with-mask.jpg',\n",
       " 'D:\\\\observations-master\\\\observations-master\\\\experiements\\\\data\\\\with_mask\\\\450-with-mask.jpg',\n",
       " 'D:\\\\observations-master\\\\observations-master\\\\experiements\\\\data\\\\with_mask\\\\451-with-mask.jpg',\n",
       " 'D:\\\\observations-master\\\\observations-master\\\\experiements\\\\data\\\\with_mask\\\\452-with-mask.jpg',\n",
       " 'D:\\\\observations-master\\\\observations-master\\\\experiements\\\\data\\\\with_mask\\\\453-with-mask.jpg',\n",
       " 'D:\\\\observations-master\\\\observations-master\\\\experiements\\\\data\\\\with_mask\\\\454-with-mask.jpg',\n",
       " 'D:\\\\observations-master\\\\observations-master\\\\experiements\\\\data\\\\with_mask\\\\455-with-mask.jpg',\n",
       " 'D:\\\\observations-master\\\\observations-master\\\\experiements\\\\data\\\\with_mask\\\\456-with-mask.jpg',\n",
       " 'D:\\\\observations-master\\\\observations-master\\\\experiements\\\\data\\\\with_mask\\\\457-with-mask.jpg',\n",
       " 'D:\\\\observations-master\\\\observations-master\\\\experiements\\\\data\\\\with_mask\\\\458-with-mask.jpg',\n",
       " 'D:\\\\observations-master\\\\observations-master\\\\experiements\\\\data\\\\with_mask\\\\459-with-mask.jpg',\n",
       " 'D:\\\\observations-master\\\\observations-master\\\\experiements\\\\data\\\\with_mask\\\\46-with-mask.jpg',\n",
       " 'D:\\\\observations-master\\\\observations-master\\\\experiements\\\\data\\\\with_mask\\\\460-with-mask.jpg',\n",
       " 'D:\\\\observations-master\\\\observations-master\\\\experiements\\\\data\\\\with_mask\\\\461-with-mask.jpg',\n",
       " 'D:\\\\observations-master\\\\observations-master\\\\experiements\\\\data\\\\with_mask\\\\462-with-mask.jpg',\n",
       " 'D:\\\\observations-master\\\\observations-master\\\\experiements\\\\data\\\\with_mask\\\\463-with-mask.jpg',\n",
       " 'D:\\\\observations-master\\\\observations-master\\\\experiements\\\\data\\\\with_mask\\\\464-with-mask.jpg',\n",
       " 'D:\\\\observations-master\\\\observations-master\\\\experiements\\\\data\\\\with_mask\\\\466-with-mask.jpg',\n",
       " 'D:\\\\observations-master\\\\observations-master\\\\experiements\\\\data\\\\with_mask\\\\467-with-mask.jpg',\n",
       " 'D:\\\\observations-master\\\\observations-master\\\\experiements\\\\data\\\\with_mask\\\\47-with-mask.jpg',\n",
       " 'D:\\\\observations-master\\\\observations-master\\\\experiements\\\\data\\\\with_mask\\\\471-with-mask.jpg',\n",
       " 'D:\\\\observations-master\\\\observations-master\\\\experiements\\\\data\\\\with_mask\\\\472-with-mask.jpg',\n",
       " 'D:\\\\observations-master\\\\observations-master\\\\experiements\\\\data\\\\with_mask\\\\473-with-mask.jpg',\n",
       " 'D:\\\\observations-master\\\\observations-master\\\\experiements\\\\data\\\\with_mask\\\\474-with-mask.jpg',\n",
       " 'D:\\\\observations-master\\\\observations-master\\\\experiements\\\\data\\\\with_mask\\\\475-with-mask.jpg',\n",
       " 'D:\\\\observations-master\\\\observations-master\\\\experiements\\\\data\\\\with_mask\\\\476-with-mask.jpg',\n",
       " 'D:\\\\observations-master\\\\observations-master\\\\experiements\\\\data\\\\with_mask\\\\477-with-mask.jpg',\n",
       " 'D:\\\\observations-master\\\\observations-master\\\\experiements\\\\data\\\\with_mask\\\\478-with-mask.jpg',\n",
       " 'D:\\\\observations-master\\\\observations-master\\\\experiements\\\\data\\\\with_mask\\\\479-with-mask.jpg',\n",
       " 'D:\\\\observations-master\\\\observations-master\\\\experiements\\\\data\\\\with_mask\\\\48-with-mask.jpg',\n",
       " 'D:\\\\observations-master\\\\observations-master\\\\experiements\\\\data\\\\with_mask\\\\480-with-mask.jpg',\n",
       " 'D:\\\\observations-master\\\\observations-master\\\\experiements\\\\data\\\\with_mask\\\\481-with-mask.jpg',\n",
       " 'D:\\\\observations-master\\\\observations-master\\\\experiements\\\\data\\\\with_mask\\\\49-with-mask.jpg',\n",
       " 'D:\\\\observations-master\\\\observations-master\\\\experiements\\\\data\\\\with_mask\\\\5-with-mask.jpg',\n",
       " 'D:\\\\observations-master\\\\observations-master\\\\experiements\\\\data\\\\with_mask\\\\50-with-mask.jpg',\n",
       " 'D:\\\\observations-master\\\\observations-master\\\\experiements\\\\data\\\\with_mask\\\\51-with-mask.jpg',\n",
       " 'D:\\\\observations-master\\\\observations-master\\\\experiements\\\\data\\\\with_mask\\\\52-with-mask.jpg',\n",
       " 'D:\\\\observations-master\\\\observations-master\\\\experiements\\\\data\\\\with_mask\\\\53-with-mask.jpg',\n",
       " 'D:\\\\observations-master\\\\observations-master\\\\experiements\\\\data\\\\with_mask\\\\56-with-mask.jpg',\n",
       " 'D:\\\\observations-master\\\\observations-master\\\\experiements\\\\data\\\\with_mask\\\\57-with-mask.jpg',\n",
       " 'D:\\\\observations-master\\\\observations-master\\\\experiements\\\\data\\\\with_mask\\\\59-with-mask.jpg',\n",
       " 'D:\\\\observations-master\\\\observations-master\\\\experiements\\\\data\\\\with_mask\\\\6-with-mask.jpg',\n",
       " 'D:\\\\observations-master\\\\observations-master\\\\experiements\\\\data\\\\with_mask\\\\61-with-mask.jpg',\n",
       " 'D:\\\\observations-master\\\\observations-master\\\\experiements\\\\data\\\\with_mask\\\\62-with-mask.jpg',\n",
       " 'D:\\\\observations-master\\\\observations-master\\\\experiements\\\\data\\\\with_mask\\\\64-with-mask.jpg',\n",
       " 'D:\\\\observations-master\\\\observations-master\\\\experiements\\\\data\\\\with_mask\\\\65-with-mask.jpg',\n",
       " 'D:\\\\observations-master\\\\observations-master\\\\experiements\\\\data\\\\with_mask\\\\67-with-mask.jpg',\n",
       " 'D:\\\\observations-master\\\\observations-master\\\\experiements\\\\data\\\\with_mask\\\\68-with-mask.jpg',\n",
       " 'D:\\\\observations-master\\\\observations-master\\\\experiements\\\\data\\\\with_mask\\\\7-with-mask.jpg',\n",
       " 'D:\\\\observations-master\\\\observations-master\\\\experiements\\\\data\\\\with_mask\\\\70-with-mask.jpg',\n",
       " 'D:\\\\observations-master\\\\observations-master\\\\experiements\\\\data\\\\with_mask\\\\71-with-mask.jpg',\n",
       " 'D:\\\\observations-master\\\\observations-master\\\\experiements\\\\data\\\\with_mask\\\\72-with-mask.jpg',\n",
       " 'D:\\\\observations-master\\\\observations-master\\\\experiements\\\\data\\\\with_mask\\\\73-with-mask.jpg',\n",
       " 'D:\\\\observations-master\\\\observations-master\\\\experiements\\\\data\\\\with_mask\\\\74-with-mask.jpg',\n",
       " 'D:\\\\observations-master\\\\observations-master\\\\experiements\\\\data\\\\with_mask\\\\75-with-mask.jpg',\n",
       " 'D:\\\\observations-master\\\\observations-master\\\\experiements\\\\data\\\\with_mask\\\\76-with-mask.jpg',\n",
       " 'D:\\\\observations-master\\\\observations-master\\\\experiements\\\\data\\\\with_mask\\\\77-with-mask.jpg',\n",
       " 'D:\\\\observations-master\\\\observations-master\\\\experiements\\\\data\\\\with_mask\\\\78-with-mask.jpg',\n",
       " 'D:\\\\observations-master\\\\observations-master\\\\experiements\\\\data\\\\with_mask\\\\79-with-mask.jpg',\n",
       " 'D:\\\\observations-master\\\\observations-master\\\\experiements\\\\data\\\\with_mask\\\\8-with-mask.jpg',\n",
       " 'D:\\\\observations-master\\\\observations-master\\\\experiements\\\\data\\\\with_mask\\\\80-with-mask.jpg',\n",
       " 'D:\\\\observations-master\\\\observations-master\\\\experiements\\\\data\\\\with_mask\\\\81-with-mask.jpg',\n",
       " 'D:\\\\observations-master\\\\observations-master\\\\experiements\\\\data\\\\with_mask\\\\82-with-mask.jpg',\n",
       " 'D:\\\\observations-master\\\\observations-master\\\\experiements\\\\data\\\\with_mask\\\\83-with-mask.jpg',\n",
       " 'D:\\\\observations-master\\\\observations-master\\\\experiements\\\\data\\\\with_mask\\\\84-with-mask.jpg',\n",
       " 'D:\\\\observations-master\\\\observations-master\\\\experiements\\\\data\\\\with_mask\\\\85-with-mask.jpg',\n",
       " 'D:\\\\observations-master\\\\observations-master\\\\experiements\\\\data\\\\with_mask\\\\86-with-mask.jpg',\n",
       " 'D:\\\\observations-master\\\\observations-master\\\\experiements\\\\data\\\\with_mask\\\\88-with-mask.jpg',\n",
       " 'D:\\\\observations-master\\\\observations-master\\\\experiements\\\\data\\\\with_mask\\\\89-with-mask.jpg',\n",
       " 'D:\\\\observations-master\\\\observations-master\\\\experiements\\\\data\\\\with_mask\\\\9-with-mask.jpg',\n",
       " 'D:\\\\observations-master\\\\observations-master\\\\experiements\\\\data\\\\with_mask\\\\91-with-mask.jpg',\n",
       " 'D:\\\\observations-master\\\\observations-master\\\\experiements\\\\data\\\\with_mask\\\\92-with-mask.jpg',\n",
       " 'D:\\\\observations-master\\\\observations-master\\\\experiements\\\\data\\\\with_mask\\\\93-with-mask.jpg',\n",
       " 'D:\\\\observations-master\\\\observations-master\\\\experiements\\\\data\\\\with_mask\\\\94-with-mask.jpg',\n",
       " 'D:\\\\observations-master\\\\observations-master\\\\experiements\\\\data\\\\with_mask\\\\96-with-mask.jpg',\n",
       " 'D:\\\\observations-master\\\\observations-master\\\\experiements\\\\data\\\\with_mask\\\\97-with-mask.jpg',\n",
       " 'D:\\\\observations-master\\\\observations-master\\\\experiements\\\\data\\\\with_mask\\\\98-with-mask.jpg',\n",
       " 'D:\\\\observations-master\\\\observations-master\\\\experiements\\\\data\\\\with_mask\\\\99-with-mask.jpg',\n",
       " 'D:\\\\observations-master\\\\observations-master\\\\experiements\\\\data\\\\with_mask\\\\augmented_image_0.jpg',\n",
       " 'D:\\\\observations-master\\\\observations-master\\\\experiements\\\\data\\\\with_mask\\\\augmented_image_1.jpg',\n",
       " 'D:\\\\observations-master\\\\observations-master\\\\experiements\\\\data\\\\with_mask\\\\augmented_image_10.jpg',\n",
       " 'D:\\\\observations-master\\\\observations-master\\\\experiements\\\\data\\\\with_mask\\\\augmented_image_100.jpg',\n",
       " 'D:\\\\observations-master\\\\observations-master\\\\experiements\\\\data\\\\with_mask\\\\augmented_image_101.jpg',\n",
       " 'D:\\\\observations-master\\\\observations-master\\\\experiements\\\\data\\\\with_mask\\\\augmented_image_102.jpg',\n",
       " 'D:\\\\observations-master\\\\observations-master\\\\experiements\\\\data\\\\with_mask\\\\augmented_image_103.jpg',\n",
       " 'D:\\\\observations-master\\\\observations-master\\\\experiements\\\\data\\\\with_mask\\\\augmented_image_104.jpg',\n",
       " 'D:\\\\observations-master\\\\observations-master\\\\experiements\\\\data\\\\with_mask\\\\augmented_image_105.jpg',\n",
       " 'D:\\\\observations-master\\\\observations-master\\\\experiements\\\\data\\\\with_mask\\\\augmented_image_106.jpg',\n",
       " 'D:\\\\observations-master\\\\observations-master\\\\experiements\\\\data\\\\with_mask\\\\augmented_image_107.jpg',\n",
       " 'D:\\\\observations-master\\\\observations-master\\\\experiements\\\\data\\\\with_mask\\\\augmented_image_108.jpg',\n",
       " 'D:\\\\observations-master\\\\observations-master\\\\experiements\\\\data\\\\with_mask\\\\augmented_image_109.jpg',\n",
       " 'D:\\\\observations-master\\\\observations-master\\\\experiements\\\\data\\\\with_mask\\\\augmented_image_11.jpg',\n",
       " 'D:\\\\observations-master\\\\observations-master\\\\experiements\\\\data\\\\with_mask\\\\augmented_image_110.jpg',\n",
       " 'D:\\\\observations-master\\\\observations-master\\\\experiements\\\\data\\\\with_mask\\\\augmented_image_111.jpg',\n",
       " 'D:\\\\observations-master\\\\observations-master\\\\experiements\\\\data\\\\with_mask\\\\augmented_image_112.jpg',\n",
       " 'D:\\\\observations-master\\\\observations-master\\\\experiements\\\\data\\\\with_mask\\\\augmented_image_113.jpg',\n",
       " 'D:\\\\observations-master\\\\observations-master\\\\experiements\\\\data\\\\with_mask\\\\augmented_image_114.jpg',\n",
       " 'D:\\\\observations-master\\\\observations-master\\\\experiements\\\\data\\\\with_mask\\\\augmented_image_115.jpg',\n",
       " 'D:\\\\observations-master\\\\observations-master\\\\experiements\\\\data\\\\with_mask\\\\augmented_image_116.jpg',\n",
       " 'D:\\\\observations-master\\\\observations-master\\\\experiements\\\\data\\\\with_mask\\\\augmented_image_117.jpg',\n",
       " 'D:\\\\observations-master\\\\observations-master\\\\experiements\\\\data\\\\with_mask\\\\augmented_image_118.jpg',\n",
       " 'D:\\\\observations-master\\\\observations-master\\\\experiements\\\\data\\\\with_mask\\\\augmented_image_119.jpg',\n",
       " 'D:\\\\observations-master\\\\observations-master\\\\experiements\\\\data\\\\with_mask\\\\augmented_image_12.jpg',\n",
       " 'D:\\\\observations-master\\\\observations-master\\\\experiements\\\\data\\\\with_mask\\\\augmented_image_120.jpg',\n",
       " 'D:\\\\observations-master\\\\observations-master\\\\experiements\\\\data\\\\with_mask\\\\augmented_image_121.jpg',\n",
       " 'D:\\\\observations-master\\\\observations-master\\\\experiements\\\\data\\\\with_mask\\\\augmented_image_122.jpg',\n",
       " 'D:\\\\observations-master\\\\observations-master\\\\experiements\\\\data\\\\with_mask\\\\augmented_image_123.jpg',\n",
       " 'D:\\\\observations-master\\\\observations-master\\\\experiements\\\\data\\\\with_mask\\\\augmented_image_124.jpg',\n",
       " 'D:\\\\observations-master\\\\observations-master\\\\experiements\\\\data\\\\with_mask\\\\augmented_image_125.jpg',\n",
       " 'D:\\\\observations-master\\\\observations-master\\\\experiements\\\\data\\\\with_mask\\\\augmented_image_126.jpg',\n",
       " 'D:\\\\observations-master\\\\observations-master\\\\experiements\\\\data\\\\with_mask\\\\augmented_image_127.jpg',\n",
       " 'D:\\\\observations-master\\\\observations-master\\\\experiements\\\\data\\\\with_mask\\\\augmented_image_128.jpg',\n",
       " 'D:\\\\observations-master\\\\observations-master\\\\experiements\\\\data\\\\with_mask\\\\augmented_image_129.jpg',\n",
       " 'D:\\\\observations-master\\\\observations-master\\\\experiements\\\\data\\\\with_mask\\\\augmented_image_13.jpg',\n",
       " 'D:\\\\observations-master\\\\observations-master\\\\experiements\\\\data\\\\with_mask\\\\augmented_image_130.jpg',\n",
       " 'D:\\\\observations-master\\\\observations-master\\\\experiements\\\\data\\\\with_mask\\\\augmented_image_131.jpg',\n",
       " 'D:\\\\observations-master\\\\observations-master\\\\experiements\\\\data\\\\with_mask\\\\augmented_image_132.jpg',\n",
       " 'D:\\\\observations-master\\\\observations-master\\\\experiements\\\\data\\\\with_mask\\\\augmented_image_133.jpg',\n",
       " 'D:\\\\observations-master\\\\observations-master\\\\experiements\\\\data\\\\with_mask\\\\augmented_image_134.jpg',\n",
       " 'D:\\\\observations-master\\\\observations-master\\\\experiements\\\\data\\\\with_mask\\\\augmented_image_135.jpg',\n",
       " 'D:\\\\observations-master\\\\observations-master\\\\experiements\\\\data\\\\with_mask\\\\augmented_image_136.jpg',\n",
       " 'D:\\\\observations-master\\\\observations-master\\\\experiements\\\\data\\\\with_mask\\\\augmented_image_137.jpg',\n",
       " 'D:\\\\observations-master\\\\observations-master\\\\experiements\\\\data\\\\with_mask\\\\augmented_image_138.jpg',\n",
       " 'D:\\\\observations-master\\\\observations-master\\\\experiements\\\\data\\\\with_mask\\\\augmented_image_139.jpg',\n",
       " 'D:\\\\observations-master\\\\observations-master\\\\experiements\\\\data\\\\with_mask\\\\augmented_image_14.jpg',\n",
       " 'D:\\\\observations-master\\\\observations-master\\\\experiements\\\\data\\\\with_mask\\\\augmented_image_140.jpg',\n",
       " 'D:\\\\observations-master\\\\observations-master\\\\experiements\\\\data\\\\with_mask\\\\augmented_image_141.jpg',\n",
       " 'D:\\\\observations-master\\\\observations-master\\\\experiements\\\\data\\\\with_mask\\\\augmented_image_142.jpg',\n",
       " 'D:\\\\observations-master\\\\observations-master\\\\experiements\\\\data\\\\with_mask\\\\augmented_image_143.jpg',\n",
       " 'D:\\\\observations-master\\\\observations-master\\\\experiements\\\\data\\\\with_mask\\\\augmented_image_144.jpg',\n",
       " 'D:\\\\observations-master\\\\observations-master\\\\experiements\\\\data\\\\with_mask\\\\augmented_image_145.jpg',\n",
       " 'D:\\\\observations-master\\\\observations-master\\\\experiements\\\\data\\\\with_mask\\\\augmented_image_146.jpg',\n",
       " 'D:\\\\observations-master\\\\observations-master\\\\experiements\\\\data\\\\with_mask\\\\augmented_image_147.jpg',\n",
       " 'D:\\\\observations-master\\\\observations-master\\\\experiements\\\\data\\\\with_mask\\\\augmented_image_148.jpg',\n",
       " 'D:\\\\observations-master\\\\observations-master\\\\experiements\\\\data\\\\with_mask\\\\augmented_image_149.jpg',\n",
       " 'D:\\\\observations-master\\\\observations-master\\\\experiements\\\\data\\\\with_mask\\\\augmented_image_15.jpg',\n",
       " 'D:\\\\observations-master\\\\observations-master\\\\experiements\\\\data\\\\with_mask\\\\augmented_image_150.jpg',\n",
       " 'D:\\\\observations-master\\\\observations-master\\\\experiements\\\\data\\\\with_mask\\\\augmented_image_151.jpg',\n",
       " 'D:\\\\observations-master\\\\observations-master\\\\experiements\\\\data\\\\with_mask\\\\augmented_image_152.jpg',\n",
       " 'D:\\\\observations-master\\\\observations-master\\\\experiements\\\\data\\\\with_mask\\\\augmented_image_153.jpg',\n",
       " 'D:\\\\observations-master\\\\observations-master\\\\experiements\\\\data\\\\with_mask\\\\augmented_image_154.jpg',\n",
       " 'D:\\\\observations-master\\\\observations-master\\\\experiements\\\\data\\\\with_mask\\\\augmented_image_155.jpg',\n",
       " 'D:\\\\observations-master\\\\observations-master\\\\experiements\\\\data\\\\with_mask\\\\augmented_image_156.jpg',\n",
       " 'D:\\\\observations-master\\\\observations-master\\\\experiements\\\\data\\\\with_mask\\\\augmented_image_157.jpg',\n",
       " 'D:\\\\observations-master\\\\observations-master\\\\experiements\\\\data\\\\with_mask\\\\augmented_image_158.jpg',\n",
       " 'D:\\\\observations-master\\\\observations-master\\\\experiements\\\\data\\\\with_mask\\\\augmented_image_159.jpg',\n",
       " 'D:\\\\observations-master\\\\observations-master\\\\experiements\\\\data\\\\with_mask\\\\augmented_image_16.jpg',\n",
       " 'D:\\\\observations-master\\\\observations-master\\\\experiements\\\\data\\\\with_mask\\\\augmented_image_160.jpg',\n",
       " 'D:\\\\observations-master\\\\observations-master\\\\experiements\\\\data\\\\with_mask\\\\augmented_image_161.jpg',\n",
       " 'D:\\\\observations-master\\\\observations-master\\\\experiements\\\\data\\\\with_mask\\\\augmented_image_162.jpg',\n",
       " 'D:\\\\observations-master\\\\observations-master\\\\experiements\\\\data\\\\with_mask\\\\augmented_image_163.jpg',\n",
       " 'D:\\\\observations-master\\\\observations-master\\\\experiements\\\\data\\\\with_mask\\\\augmented_image_164.jpg',\n",
       " 'D:\\\\observations-master\\\\observations-master\\\\experiements\\\\data\\\\with_mask\\\\augmented_image_165.jpg',\n",
       " 'D:\\\\observations-master\\\\observations-master\\\\experiements\\\\data\\\\with_mask\\\\augmented_image_166.jpg',\n",
       " 'D:\\\\observations-master\\\\observations-master\\\\experiements\\\\data\\\\with_mask\\\\augmented_image_167.jpg',\n",
       " 'D:\\\\observations-master\\\\observations-master\\\\experiements\\\\data\\\\with_mask\\\\augmented_image_168.jpg',\n",
       " 'D:\\\\observations-master\\\\observations-master\\\\experiements\\\\data\\\\with_mask\\\\augmented_image_169.jpg',\n",
       " 'D:\\\\observations-master\\\\observations-master\\\\experiements\\\\data\\\\with_mask\\\\augmented_image_17.jpg',\n",
       " 'D:\\\\observations-master\\\\observations-master\\\\experiements\\\\data\\\\with_mask\\\\augmented_image_170.jpg',\n",
       " 'D:\\\\observations-master\\\\observations-master\\\\experiements\\\\data\\\\with_mask\\\\augmented_image_171.jpg',\n",
       " 'D:\\\\observations-master\\\\observations-master\\\\experiements\\\\data\\\\with_mask\\\\augmented_image_172.jpg',\n",
       " 'D:\\\\observations-master\\\\observations-master\\\\experiements\\\\data\\\\with_mask\\\\augmented_image_173.jpg',\n",
       " 'D:\\\\observations-master\\\\observations-master\\\\experiements\\\\data\\\\with_mask\\\\augmented_image_174.jpg',\n",
       " 'D:\\\\observations-master\\\\observations-master\\\\experiements\\\\data\\\\with_mask\\\\augmented_image_175.jpg',\n",
       " 'D:\\\\observations-master\\\\observations-master\\\\experiements\\\\data\\\\with_mask\\\\augmented_image_176.jpg',\n",
       " 'D:\\\\observations-master\\\\observations-master\\\\experiements\\\\data\\\\with_mask\\\\augmented_image_177.jpg',\n",
       " 'D:\\\\observations-master\\\\observations-master\\\\experiements\\\\data\\\\with_mask\\\\augmented_image_178.jpg',\n",
       " 'D:\\\\observations-master\\\\observations-master\\\\experiements\\\\data\\\\with_mask\\\\augmented_image_179.jpg',\n",
       " 'D:\\\\observations-master\\\\observations-master\\\\experiements\\\\data\\\\with_mask\\\\augmented_image_18.jpg',\n",
       " 'D:\\\\observations-master\\\\observations-master\\\\experiements\\\\data\\\\with_mask\\\\augmented_image_180.jpg',\n",
       " 'D:\\\\observations-master\\\\observations-master\\\\experiements\\\\data\\\\with_mask\\\\augmented_image_181.jpg',\n",
       " 'D:\\\\observations-master\\\\observations-master\\\\experiements\\\\data\\\\with_mask\\\\augmented_image_182.jpg',\n",
       " 'D:\\\\observations-master\\\\observations-master\\\\experiements\\\\data\\\\with_mask\\\\augmented_image_183.jpg',\n",
       " 'D:\\\\observations-master\\\\observations-master\\\\experiements\\\\data\\\\with_mask\\\\augmented_image_184.jpg',\n",
       " 'D:\\\\observations-master\\\\observations-master\\\\experiements\\\\data\\\\with_mask\\\\augmented_image_185.jpg',\n",
       " 'D:\\\\observations-master\\\\observations-master\\\\experiements\\\\data\\\\with_mask\\\\augmented_image_186.jpg',\n",
       " 'D:\\\\observations-master\\\\observations-master\\\\experiements\\\\data\\\\with_mask\\\\augmented_image_187.jpg',\n",
       " 'D:\\\\observations-master\\\\observations-master\\\\experiements\\\\data\\\\with_mask\\\\augmented_image_188.jpg',\n",
       " 'D:\\\\observations-master\\\\observations-master\\\\experiements\\\\data\\\\with_mask\\\\augmented_image_189.jpg',\n",
       " 'D:\\\\observations-master\\\\observations-master\\\\experiements\\\\data\\\\with_mask\\\\augmented_image_19.jpg',\n",
       " 'D:\\\\observations-master\\\\observations-master\\\\experiements\\\\data\\\\with_mask\\\\augmented_image_190.jpg',\n",
       " 'D:\\\\observations-master\\\\observations-master\\\\experiements\\\\data\\\\with_mask\\\\augmented_image_191.jpg',\n",
       " 'D:\\\\observations-master\\\\observations-master\\\\experiements\\\\data\\\\with_mask\\\\augmented_image_192.jpg',\n",
       " 'D:\\\\observations-master\\\\observations-master\\\\experiements\\\\data\\\\with_mask\\\\augmented_image_193.jpg',\n",
       " 'D:\\\\observations-master\\\\observations-master\\\\experiements\\\\data\\\\with_mask\\\\augmented_image_194.jpg',\n",
       " 'D:\\\\observations-master\\\\observations-master\\\\experiements\\\\data\\\\with_mask\\\\augmented_image_195.jpg',\n",
       " 'D:\\\\observations-master\\\\observations-master\\\\experiements\\\\data\\\\with_mask\\\\augmented_image_196.jpg',\n",
       " 'D:\\\\observations-master\\\\observations-master\\\\experiements\\\\data\\\\with_mask\\\\augmented_image_197.jpg',\n",
       " 'D:\\\\observations-master\\\\observations-master\\\\experiements\\\\data\\\\with_mask\\\\augmented_image_198.jpg',\n",
       " 'D:\\\\observations-master\\\\observations-master\\\\experiements\\\\data\\\\with_mask\\\\augmented_image_199.jpg',\n",
       " 'D:\\\\observations-master\\\\observations-master\\\\experiements\\\\data\\\\with_mask\\\\augmented_image_2.jpg',\n",
       " 'D:\\\\observations-master\\\\observations-master\\\\experiements\\\\data\\\\with_mask\\\\augmented_image_20.jpg',\n",
       " 'D:\\\\observations-master\\\\observations-master\\\\experiements\\\\data\\\\with_mask\\\\augmented_image_200.jpg',\n",
       " 'D:\\\\observations-master\\\\observations-master\\\\experiements\\\\data\\\\with_mask\\\\augmented_image_201.jpg',\n",
       " 'D:\\\\observations-master\\\\observations-master\\\\experiements\\\\data\\\\with_mask\\\\augmented_image_202.jpg',\n",
       " 'D:\\\\observations-master\\\\observations-master\\\\experiements\\\\data\\\\with_mask\\\\augmented_image_203.jpg',\n",
       " 'D:\\\\observations-master\\\\observations-master\\\\experiements\\\\data\\\\with_mask\\\\augmented_image_204.jpg',\n",
       " 'D:\\\\observations-master\\\\observations-master\\\\experiements\\\\data\\\\with_mask\\\\augmented_image_205.jpg',\n",
       " 'D:\\\\observations-master\\\\observations-master\\\\experiements\\\\data\\\\with_mask\\\\augmented_image_206.jpg',\n",
       " 'D:\\\\observations-master\\\\observations-master\\\\experiements\\\\data\\\\with_mask\\\\augmented_image_207.jpg',\n",
       " 'D:\\\\observations-master\\\\observations-master\\\\experiements\\\\data\\\\with_mask\\\\augmented_image_208.jpg',\n",
       " 'D:\\\\observations-master\\\\observations-master\\\\experiements\\\\data\\\\with_mask\\\\augmented_image_209.jpg',\n",
       " 'D:\\\\observations-master\\\\observations-master\\\\experiements\\\\data\\\\with_mask\\\\augmented_image_21.jpg',\n",
       " 'D:\\\\observations-master\\\\observations-master\\\\experiements\\\\data\\\\with_mask\\\\augmented_image_210.jpg',\n",
       " 'D:\\\\observations-master\\\\observations-master\\\\experiements\\\\data\\\\with_mask\\\\augmented_image_211.jpg',\n",
       " 'D:\\\\observations-master\\\\observations-master\\\\experiements\\\\data\\\\with_mask\\\\augmented_image_212.jpg',\n",
       " 'D:\\\\observations-master\\\\observations-master\\\\experiements\\\\data\\\\with_mask\\\\augmented_image_213.jpg',\n",
       " 'D:\\\\observations-master\\\\observations-master\\\\experiements\\\\data\\\\with_mask\\\\augmented_image_214.jpg',\n",
       " 'D:\\\\observations-master\\\\observations-master\\\\experiements\\\\data\\\\with_mask\\\\augmented_image_215.jpg',\n",
       " 'D:\\\\observations-master\\\\observations-master\\\\experiements\\\\data\\\\with_mask\\\\augmented_image_216.jpg',\n",
       " 'D:\\\\observations-master\\\\observations-master\\\\experiements\\\\data\\\\with_mask\\\\augmented_image_217.jpg',\n",
       " 'D:\\\\observations-master\\\\observations-master\\\\experiements\\\\data\\\\with_mask\\\\augmented_image_218.jpg',\n",
       " 'D:\\\\observations-master\\\\observations-master\\\\experiements\\\\data\\\\with_mask\\\\augmented_image_219.jpg',\n",
       " 'D:\\\\observations-master\\\\observations-master\\\\experiements\\\\data\\\\with_mask\\\\augmented_image_22.jpg',\n",
       " 'D:\\\\observations-master\\\\observations-master\\\\experiements\\\\data\\\\with_mask\\\\augmented_image_220.jpg',\n",
       " 'D:\\\\observations-master\\\\observations-master\\\\experiements\\\\data\\\\with_mask\\\\augmented_image_221.jpg',\n",
       " 'D:\\\\observations-master\\\\observations-master\\\\experiements\\\\data\\\\with_mask\\\\augmented_image_222.jpg',\n",
       " 'D:\\\\observations-master\\\\observations-master\\\\experiements\\\\data\\\\with_mask\\\\augmented_image_223.jpg',\n",
       " 'D:\\\\observations-master\\\\observations-master\\\\experiements\\\\data\\\\with_mask\\\\augmented_image_227.jpg',\n",
       " 'D:\\\\observations-master\\\\observations-master\\\\experiements\\\\data\\\\with_mask\\\\augmented_image_228.jpg',\n",
       " 'D:\\\\observations-master\\\\observations-master\\\\experiements\\\\data\\\\with_mask\\\\augmented_image_23.jpg',\n",
       " 'D:\\\\observations-master\\\\observations-master\\\\experiements\\\\data\\\\with_mask\\\\augmented_image_230.jpg',\n",
       " 'D:\\\\observations-master\\\\observations-master\\\\experiements\\\\data\\\\with_mask\\\\augmented_image_232.jpg',\n",
       " 'D:\\\\observations-master\\\\observations-master\\\\experiements\\\\data\\\\with_mask\\\\augmented_image_234.jpg',\n",
       " 'D:\\\\observations-master\\\\observations-master\\\\experiements\\\\data\\\\with_mask\\\\augmented_image_235.jpg',\n",
       " 'D:\\\\observations-master\\\\observations-master\\\\experiements\\\\data\\\\with_mask\\\\augmented_image_236.jpg',\n",
       " 'D:\\\\observations-master\\\\observations-master\\\\experiements\\\\data\\\\with_mask\\\\augmented_image_237.jpg',\n",
       " 'D:\\\\observations-master\\\\observations-master\\\\experiements\\\\data\\\\with_mask\\\\augmented_image_238.jpg',\n",
       " 'D:\\\\observations-master\\\\observations-master\\\\experiements\\\\data\\\\with_mask\\\\augmented_image_239.jpg',\n",
       " 'D:\\\\observations-master\\\\observations-master\\\\experiements\\\\data\\\\with_mask\\\\augmented_image_24.jpg',\n",
       " 'D:\\\\observations-master\\\\observations-master\\\\experiements\\\\data\\\\with_mask\\\\augmented_image_240.jpg',\n",
       " 'D:\\\\observations-master\\\\observations-master\\\\experiements\\\\data\\\\with_mask\\\\augmented_image_242.jpg',\n",
       " 'D:\\\\observations-master\\\\observations-master\\\\experiements\\\\data\\\\with_mask\\\\augmented_image_243.jpg',\n",
       " 'D:\\\\observations-master\\\\observations-master\\\\experiements\\\\data\\\\with_mask\\\\augmented_image_244.jpg',\n",
       " 'D:\\\\observations-master\\\\observations-master\\\\experiements\\\\data\\\\with_mask\\\\augmented_image_245.jpg',\n",
       " 'D:\\\\observations-master\\\\observations-master\\\\experiements\\\\data\\\\with_mask\\\\augmented_image_246.jpg',\n",
       " 'D:\\\\observations-master\\\\observations-master\\\\experiements\\\\data\\\\with_mask\\\\augmented_image_247.jpg',\n",
       " 'D:\\\\observations-master\\\\observations-master\\\\experiements\\\\data\\\\with_mask\\\\augmented_image_25.jpg',\n",
       " 'D:\\\\observations-master\\\\observations-master\\\\experiements\\\\data\\\\with_mask\\\\augmented_image_251.jpg',\n",
       " 'D:\\\\observations-master\\\\observations-master\\\\experiements\\\\data\\\\with_mask\\\\augmented_image_252.jpg',\n",
       " 'D:\\\\observations-master\\\\observations-master\\\\experiements\\\\data\\\\with_mask\\\\augmented_image_254.jpg',\n",
       " 'D:\\\\observations-master\\\\observations-master\\\\experiements\\\\data\\\\with_mask\\\\augmented_image_256.jpg',\n",
       " 'D:\\\\observations-master\\\\observations-master\\\\experiements\\\\data\\\\with_mask\\\\augmented_image_257.jpg',\n",
       " 'D:\\\\observations-master\\\\observations-master\\\\experiements\\\\data\\\\with_mask\\\\augmented_image_258.jpg',\n",
       " 'D:\\\\observations-master\\\\observations-master\\\\experiements\\\\data\\\\with_mask\\\\augmented_image_26.jpg',\n",
       " 'D:\\\\observations-master\\\\observations-master\\\\experiements\\\\data\\\\with_mask\\\\augmented_image_261.jpg',\n",
       " 'D:\\\\observations-master\\\\observations-master\\\\experiements\\\\data\\\\with_mask\\\\augmented_image_262.jpg',\n",
       " 'D:\\\\observations-master\\\\observations-master\\\\experiements\\\\data\\\\with_mask\\\\augmented_image_264.jpg',\n",
       " 'D:\\\\observations-master\\\\observations-master\\\\experiements\\\\data\\\\with_mask\\\\augmented_image_265.jpg',\n",
       " 'D:\\\\observations-master\\\\observations-master\\\\experiements\\\\data\\\\with_mask\\\\augmented_image_266.jpg',\n",
       " 'D:\\\\observations-master\\\\observations-master\\\\experiements\\\\data\\\\with_mask\\\\augmented_image_267.jpg',\n",
       " 'D:\\\\observations-master\\\\observations-master\\\\experiements\\\\data\\\\with_mask\\\\augmented_image_268.jpg',\n",
       " 'D:\\\\observations-master\\\\observations-master\\\\experiements\\\\data\\\\with_mask\\\\augmented_image_27.jpg',\n",
       " 'D:\\\\observations-master\\\\observations-master\\\\experiements\\\\data\\\\with_mask\\\\augmented_image_270.jpg',\n",
       " 'D:\\\\observations-master\\\\observations-master\\\\experiements\\\\data\\\\with_mask\\\\augmented_image_273.jpg',\n",
       " 'D:\\\\observations-master\\\\observations-master\\\\experiements\\\\data\\\\with_mask\\\\augmented_image_277.jpg',\n",
       " 'D:\\\\observations-master\\\\observations-master\\\\experiements\\\\data\\\\with_mask\\\\augmented_image_28.jpg',\n",
       " 'D:\\\\observations-master\\\\observations-master\\\\experiements\\\\data\\\\with_mask\\\\augmented_image_280.jpg',\n",
       " 'D:\\\\observations-master\\\\observations-master\\\\experiements\\\\data\\\\with_mask\\\\augmented_image_281.jpg',\n",
       " 'D:\\\\observations-master\\\\observations-master\\\\experiements\\\\data\\\\with_mask\\\\augmented_image_284.jpg',\n",
       " 'D:\\\\observations-master\\\\observations-master\\\\experiements\\\\data\\\\with_mask\\\\augmented_image_285.jpg',\n",
       " 'D:\\\\observations-master\\\\observations-master\\\\experiements\\\\data\\\\with_mask\\\\augmented_image_286.jpg',\n",
       " 'D:\\\\observations-master\\\\observations-master\\\\experiements\\\\data\\\\with_mask\\\\augmented_image_287.jpg',\n",
       " 'D:\\\\observations-master\\\\observations-master\\\\experiements\\\\data\\\\with_mask\\\\augmented_image_288.jpg',\n",
       " 'D:\\\\observations-master\\\\observations-master\\\\experiements\\\\data\\\\with_mask\\\\augmented_image_289.jpg',\n",
       " 'D:\\\\observations-master\\\\observations-master\\\\experiements\\\\data\\\\with_mask\\\\augmented_image_29.jpg',\n",
       " 'D:\\\\observations-master\\\\observations-master\\\\experiements\\\\data\\\\with_mask\\\\augmented_image_291.jpg',\n",
       " 'D:\\\\observations-master\\\\observations-master\\\\experiements\\\\data\\\\with_mask\\\\augmented_image_295.jpg',\n",
       " 'D:\\\\observations-master\\\\observations-master\\\\experiements\\\\data\\\\with_mask\\\\augmented_image_296.jpg',\n",
       " 'D:\\\\observations-master\\\\observations-master\\\\experiements\\\\data\\\\with_mask\\\\augmented_image_299.jpg',\n",
       " 'D:\\\\observations-master\\\\observations-master\\\\experiements\\\\data\\\\with_mask\\\\augmented_image_3.jpg',\n",
       " 'D:\\\\observations-master\\\\observations-master\\\\experiements\\\\data\\\\with_mask\\\\augmented_image_30.jpg',\n",
       " 'D:\\\\observations-master\\\\observations-master\\\\experiements\\\\data\\\\with_mask\\\\augmented_image_300.jpg',\n",
       " 'D:\\\\observations-master\\\\observations-master\\\\experiements\\\\data\\\\with_mask\\\\augmented_image_303.jpg',\n",
       " 'D:\\\\observations-master\\\\observations-master\\\\experiements\\\\data\\\\with_mask\\\\augmented_image_305.jpg',\n",
       " 'D:\\\\observations-master\\\\observations-master\\\\experiements\\\\data\\\\with_mask\\\\augmented_image_306.jpg',\n",
       " 'D:\\\\observations-master\\\\observations-master\\\\experiements\\\\data\\\\with_mask\\\\augmented_image_308.jpg',\n",
       " 'D:\\\\observations-master\\\\observations-master\\\\experiements\\\\data\\\\with_mask\\\\augmented_image_31.jpg',\n",
       " 'D:\\\\observations-master\\\\observations-master\\\\experiements\\\\data\\\\with_mask\\\\augmented_image_310.jpg',\n",
       " 'D:\\\\observations-master\\\\observations-master\\\\experiements\\\\data\\\\with_mask\\\\augmented_image_311.jpg',\n",
       " 'D:\\\\observations-master\\\\observations-master\\\\experiements\\\\data\\\\with_mask\\\\augmented_image_314.jpg',\n",
       " 'D:\\\\observations-master\\\\observations-master\\\\experiements\\\\data\\\\with_mask\\\\augmented_image_315.jpg',\n",
       " 'D:\\\\observations-master\\\\observations-master\\\\experiements\\\\data\\\\with_mask\\\\augmented_image_316.jpg',\n",
       " 'D:\\\\observations-master\\\\observations-master\\\\experiements\\\\data\\\\with_mask\\\\augmented_image_32.jpg',\n",
       " 'D:\\\\observations-master\\\\observations-master\\\\experiements\\\\data\\\\with_mask\\\\augmented_image_33.jpg',\n",
       " 'D:\\\\observations-master\\\\observations-master\\\\experiements\\\\data\\\\with_mask\\\\augmented_image_34.jpg',\n",
       " 'D:\\\\observations-master\\\\observations-master\\\\experiements\\\\data\\\\with_mask\\\\augmented_image_35.jpg',\n",
       " 'D:\\\\observations-master\\\\observations-master\\\\experiements\\\\data\\\\with_mask\\\\augmented_image_36.jpg',\n",
       " 'D:\\\\observations-master\\\\observations-master\\\\experiements\\\\data\\\\with_mask\\\\augmented_image_37.jpg',\n",
       " 'D:\\\\observations-master\\\\observations-master\\\\experiements\\\\data\\\\with_mask\\\\augmented_image_38.jpg',\n",
       " 'D:\\\\observations-master\\\\observations-master\\\\experiements\\\\data\\\\with_mask\\\\augmented_image_39.jpg',\n",
       " 'D:\\\\observations-master\\\\observations-master\\\\experiements\\\\data\\\\with_mask\\\\augmented_image_4.jpg',\n",
       " 'D:\\\\observations-master\\\\observations-master\\\\experiements\\\\data\\\\with_mask\\\\augmented_image_40.jpg',\n",
       " 'D:\\\\observations-master\\\\observations-master\\\\experiements\\\\data\\\\with_mask\\\\augmented_image_41.jpg',\n",
       " 'D:\\\\observations-master\\\\observations-master\\\\experiements\\\\data\\\\with_mask\\\\augmented_image_42.jpg',\n",
       " 'D:\\\\observations-master\\\\observations-master\\\\experiements\\\\data\\\\with_mask\\\\augmented_image_43.jpg',\n",
       " 'D:\\\\observations-master\\\\observations-master\\\\experiements\\\\data\\\\with_mask\\\\augmented_image_44.jpg',\n",
       " 'D:\\\\observations-master\\\\observations-master\\\\experiements\\\\data\\\\with_mask\\\\augmented_image_45.jpg',\n",
       " 'D:\\\\observations-master\\\\observations-master\\\\experiements\\\\data\\\\with_mask\\\\augmented_image_46.jpg',\n",
       " 'D:\\\\observations-master\\\\observations-master\\\\experiements\\\\data\\\\with_mask\\\\augmented_image_47.jpg',\n",
       " 'D:\\\\observations-master\\\\observations-master\\\\experiements\\\\data\\\\with_mask\\\\augmented_image_48.jpg',\n",
       " 'D:\\\\observations-master\\\\observations-master\\\\experiements\\\\data\\\\with_mask\\\\augmented_image_49.jpg',\n",
       " 'D:\\\\observations-master\\\\observations-master\\\\experiements\\\\data\\\\with_mask\\\\augmented_image_5.jpg',\n",
       " 'D:\\\\observations-master\\\\observations-master\\\\experiements\\\\data\\\\with_mask\\\\augmented_image_50.jpg',\n",
       " 'D:\\\\observations-master\\\\observations-master\\\\experiements\\\\data\\\\with_mask\\\\augmented_image_51.jpg',\n",
       " 'D:\\\\observations-master\\\\observations-master\\\\experiements\\\\data\\\\with_mask\\\\augmented_image_52.jpg',\n",
       " 'D:\\\\observations-master\\\\observations-master\\\\experiements\\\\data\\\\with_mask\\\\augmented_image_53.jpg',\n",
       " 'D:\\\\observations-master\\\\observations-master\\\\experiements\\\\data\\\\with_mask\\\\augmented_image_54.jpg',\n",
       " 'D:\\\\observations-master\\\\observations-master\\\\experiements\\\\data\\\\with_mask\\\\augmented_image_55.jpg',\n",
       " 'D:\\\\observations-master\\\\observations-master\\\\experiements\\\\data\\\\with_mask\\\\augmented_image_56.jpg',\n",
       " 'D:\\\\observations-master\\\\observations-master\\\\experiements\\\\data\\\\with_mask\\\\augmented_image_57.jpg',\n",
       " 'D:\\\\observations-master\\\\observations-master\\\\experiements\\\\data\\\\with_mask\\\\augmented_image_58.jpg',\n",
       " 'D:\\\\observations-master\\\\observations-master\\\\experiements\\\\data\\\\with_mask\\\\augmented_image_59.jpg',\n",
       " 'D:\\\\observations-master\\\\observations-master\\\\experiements\\\\data\\\\with_mask\\\\augmented_image_6.jpg',\n",
       " 'D:\\\\observations-master\\\\observations-master\\\\experiements\\\\data\\\\with_mask\\\\augmented_image_60.jpg',\n",
       " 'D:\\\\observations-master\\\\observations-master\\\\experiements\\\\data\\\\with_mask\\\\augmented_image_61.jpg',\n",
       " 'D:\\\\observations-master\\\\observations-master\\\\experiements\\\\data\\\\with_mask\\\\augmented_image_62.jpg',\n",
       " 'D:\\\\observations-master\\\\observations-master\\\\experiements\\\\data\\\\with_mask\\\\augmented_image_63.jpg',\n",
       " 'D:\\\\observations-master\\\\observations-master\\\\experiements\\\\data\\\\with_mask\\\\augmented_image_64.jpg',\n",
       " 'D:\\\\observations-master\\\\observations-master\\\\experiements\\\\data\\\\with_mask\\\\augmented_image_65.jpg',\n",
       " 'D:\\\\observations-master\\\\observations-master\\\\experiements\\\\data\\\\with_mask\\\\augmented_image_66.jpg',\n",
       " 'D:\\\\observations-master\\\\observations-master\\\\experiements\\\\data\\\\with_mask\\\\augmented_image_67.jpg',\n",
       " 'D:\\\\observations-master\\\\observations-master\\\\experiements\\\\data\\\\with_mask\\\\augmented_image_68.jpg',\n",
       " 'D:\\\\observations-master\\\\observations-master\\\\experiements\\\\data\\\\with_mask\\\\augmented_image_69.jpg',\n",
       " 'D:\\\\observations-master\\\\observations-master\\\\experiements\\\\data\\\\with_mask\\\\augmented_image_7.jpg',\n",
       " 'D:\\\\observations-master\\\\observations-master\\\\experiements\\\\data\\\\with_mask\\\\augmented_image_70.jpg',\n",
       " 'D:\\\\observations-master\\\\observations-master\\\\experiements\\\\data\\\\with_mask\\\\augmented_image_71.jpg',\n",
       " 'D:\\\\observations-master\\\\observations-master\\\\experiements\\\\data\\\\with_mask\\\\augmented_image_72.jpg',\n",
       " 'D:\\\\observations-master\\\\observations-master\\\\experiements\\\\data\\\\with_mask\\\\augmented_image_73.jpg',\n",
       " 'D:\\\\observations-master\\\\observations-master\\\\experiements\\\\data\\\\with_mask\\\\augmented_image_74.jpg',\n",
       " 'D:\\\\observations-master\\\\observations-master\\\\experiements\\\\data\\\\with_mask\\\\augmented_image_75.jpg',\n",
       " 'D:\\\\observations-master\\\\observations-master\\\\experiements\\\\data\\\\with_mask\\\\augmented_image_76.jpg',\n",
       " 'D:\\\\observations-master\\\\observations-master\\\\experiements\\\\data\\\\with_mask\\\\augmented_image_77.jpg',\n",
       " 'D:\\\\observations-master\\\\observations-master\\\\experiements\\\\data\\\\with_mask\\\\augmented_image_78.jpg',\n",
       " 'D:\\\\observations-master\\\\observations-master\\\\experiements\\\\data\\\\with_mask\\\\augmented_image_79.jpg',\n",
       " 'D:\\\\observations-master\\\\observations-master\\\\experiements\\\\data\\\\with_mask\\\\augmented_image_8.jpg',\n",
       " 'D:\\\\observations-master\\\\observations-master\\\\experiements\\\\data\\\\with_mask\\\\augmented_image_80.jpg',\n",
       " 'D:\\\\observations-master\\\\observations-master\\\\experiements\\\\data\\\\with_mask\\\\augmented_image_81.jpg',\n",
       " 'D:\\\\observations-master\\\\observations-master\\\\experiements\\\\data\\\\with_mask\\\\augmented_image_82.jpg',\n",
       " 'D:\\\\observations-master\\\\observations-master\\\\experiements\\\\data\\\\with_mask\\\\augmented_image_83.jpg',\n",
       " 'D:\\\\observations-master\\\\observations-master\\\\experiements\\\\data\\\\with_mask\\\\augmented_image_84.jpg',\n",
       " 'D:\\\\observations-master\\\\observations-master\\\\experiements\\\\data\\\\with_mask\\\\augmented_image_85.jpg',\n",
       " 'D:\\\\observations-master\\\\observations-master\\\\experiements\\\\data\\\\with_mask\\\\augmented_image_86.jpg',\n",
       " 'D:\\\\observations-master\\\\observations-master\\\\experiements\\\\data\\\\with_mask\\\\augmented_image_87.jpg',\n",
       " 'D:\\\\observations-master\\\\observations-master\\\\experiements\\\\data\\\\with_mask\\\\augmented_image_88.jpg',\n",
       " 'D:\\\\observations-master\\\\observations-master\\\\experiements\\\\data\\\\with_mask\\\\augmented_image_89.jpg',\n",
       " 'D:\\\\observations-master\\\\observations-master\\\\experiements\\\\data\\\\with_mask\\\\augmented_image_9.jpg',\n",
       " 'D:\\\\observations-master\\\\observations-master\\\\experiements\\\\data\\\\with_mask\\\\augmented_image_90.jpg',\n",
       " 'D:\\\\observations-master\\\\observations-master\\\\experiements\\\\data\\\\with_mask\\\\augmented_image_91.jpg',\n",
       " 'D:\\\\observations-master\\\\observations-master\\\\experiements\\\\data\\\\with_mask\\\\augmented_image_92.jpg',\n",
       " 'D:\\\\observations-master\\\\observations-master\\\\experiements\\\\data\\\\with_mask\\\\augmented_image_93.jpg',\n",
       " 'D:\\\\observations-master\\\\observations-master\\\\experiements\\\\data\\\\with_mask\\\\augmented_image_94.jpg',\n",
       " 'D:\\\\observations-master\\\\observations-master\\\\experiements\\\\data\\\\with_mask\\\\augmented_image_96.jpg',\n",
       " 'D:\\\\observations-master\\\\observations-master\\\\experiements\\\\data\\\\with_mask\\\\augmented_image_97.jpg',\n",
       " 'D:\\\\observations-master\\\\observations-master\\\\experiements\\\\data\\\\with_mask\\\\augmented_image_98.jpg',\n",
       " 'D:\\\\observations-master\\\\observations-master\\\\experiements\\\\data\\\\with_mask\\\\augmented_image_99.jpg',\n",
       " 'D:\\\\observations-master\\\\observations-master\\\\experiements\\\\data\\\\with_mask\\\\pra1.jpg',\n",
       " 'D:\\\\observations-master\\\\observations-master\\\\experiements\\\\data\\\\with_mask\\\\pra2.jpg',\n",
       " 'D:\\\\observations-master\\\\observations-master\\\\experiements\\\\data\\\\with_mask\\\\pra3.jpg',\n",
       " 'D:\\\\observations-master\\\\observations-master\\\\experiements\\\\data\\\\with_mask\\\\prajna.jpg']"
      ]
     },
     "execution_count": 14,
     "metadata": {},
     "output_type": "execute_result"
    }
   ],
   "source": [
    "mask_files"
   ]
  },
  {
   "cell_type": "code",
   "execution_count": 85,
   "metadata": {},
   "outputs": [
    {
     "data": {
      "text/plain": [
       "690"
      ]
     },
     "execution_count": 85,
     "metadata": {},
     "output_type": "execute_result"
    }
   ],
   "source": [
    "len(mask_files)"
   ]
  },
  {
   "cell_type": "code",
   "execution_count": 86,
   "metadata": {},
   "outputs": [],
   "source": [
    "without_mask_files = glob.glob(r'D:\\observations-master\\observations-master\\experiements\\data\\without_mask\\*')"
   ]
  },
  {
   "cell_type": "code",
   "execution_count": 87,
   "metadata": {},
   "outputs": [
    {
     "data": {
      "text/plain": [
       "686"
      ]
     },
     "execution_count": 87,
     "metadata": {},
     "output_type": "execute_result"
    }
   ],
   "source": [
    "len(without_mask_files)"
   ]
  },
  {
   "cell_type": "code",
   "execution_count": 88,
   "metadata": {},
   "outputs": [],
   "source": [
    "mask_train = np.random.choice(mask_files, size=500, replace=False)\n",
    "without_mask_train = np.random.choice(without_mask_files, size=500, replace=False)"
   ]
  },
  {
   "cell_type": "code",
   "execution_count": 89,
   "metadata": {},
   "outputs": [
    {
     "data": {
      "text/plain": [
       "(500, 500)"
      ]
     },
     "execution_count": 89,
     "metadata": {},
     "output_type": "execute_result"
    }
   ],
   "source": [
    "len(mask_train), len(without_mask_train)"
   ]
  },
  {
   "cell_type": "code",
   "execution_count": 90,
   "metadata": {},
   "outputs": [],
   "source": [
    "#Removing the train files from the overall data\n",
    "mask_files = list(set(mask_files) - set(mask_train))\n",
    "without_mask_files = list(set(without_mask_files) - set(without_mask_train))\n"
   ]
  },
  {
   "cell_type": "code",
   "execution_count": 91,
   "metadata": {},
   "outputs": [
    {
     "data": {
      "text/plain": [
       "(190, 186)"
      ]
     },
     "execution_count": 91,
     "metadata": {},
     "output_type": "execute_result"
    }
   ],
   "source": [
    "len(mask_files), len(without_mask_files)"
   ]
  },
  {
   "cell_type": "code",
   "execution_count": 92,
   "metadata": {},
   "outputs": [],
   "source": [
    "mask_val = np.random.choice(mask_files, size=90, replace=False)\n",
    "without_mask_val = np.random.choice(without_mask_files, size=86, replace=False)\n",
    "\n",
    "mask_files = list(set(mask_files) - set(mask_val))\n",
    "without_mask_files = list(set(without_mask_files) - set(without_mask_val))\n",
    "\n",
    "mask_test = np.random.choice(mask_files, size=100, replace=False)\n",
    "without_mask_test = np.random.choice(without_mask_files, size=100, replace=False)"
   ]
  },
  {
   "cell_type": "code",
   "execution_count": 93,
   "metadata": {},
   "outputs": [
    {
     "data": {
      "text/plain": [
       "100"
      ]
     },
     "execution_count": 93,
     "metadata": {},
     "output_type": "execute_result"
    }
   ],
   "source": [
    "len(mask_test)"
   ]
  },
  {
   "cell_type": "code",
   "execution_count": 94,
   "metadata": {},
   "outputs": [
    {
     "name": "stdout",
     "output_type": "stream",
     "text": [
      "mask datasets: (500,) (90,) (100,)\n",
      "without mask datasets: (500,) (86,) (100,)\n"
     ]
    }
   ],
   "source": [
    "print('mask datasets:', mask_train.shape, mask_val.shape, mask_test.shape)\n",
    "print('without mask datasets:', without_mask_train.shape, without_mask_val.shape, without_mask_test.shape)"
   ]
  },
  {
   "cell_type": "code",
   "execution_count": 95,
   "metadata": {},
   "outputs": [
    {
     "data": {
      "text/plain": [
       "numpy.ndarray"
      ]
     },
     "execution_count": 95,
     "metadata": {},
     "output_type": "execute_result"
    }
   ],
   "source": [
    "type(mask_train)"
   ]
  },
  {
   "cell_type": "code",
   "execution_count": 97,
   "metadata": {},
   "outputs": [],
   "source": [
    "mask_train_label = [1]*len(mask_train)\n",
    "mask_val_label = [1]*len(mask_val)\n",
    "mask_test_label = [1]*len(mask_test)"
   ]
  },
  {
   "cell_type": "code",
   "execution_count": 98,
   "metadata": {},
   "outputs": [],
   "source": [
    "without_mask_train_label = [0]*len(without_mask_train)\n",
    "without_mask_val_label = [0]*len(without_mask_val)\n",
    "without_mask_test_label = [0]*len(without_mask_test)"
   ]
  },
  {
   "cell_type": "code",
   "execution_count": 99,
   "metadata": {
    "collapsed": true
   },
   "outputs": [
    {
     "data": {
      "text/plain": [
       "[0,\n",
       " 0,\n",
       " 0,\n",
       " 0,\n",
       " 0,\n",
       " 0,\n",
       " 0,\n",
       " 0,\n",
       " 0,\n",
       " 0,\n",
       " 0,\n",
       " 0,\n",
       " 0,\n",
       " 0,\n",
       " 0,\n",
       " 0,\n",
       " 0,\n",
       " 0,\n",
       " 0,\n",
       " 0,\n",
       " 0,\n",
       " 0,\n",
       " 0,\n",
       " 0,\n",
       " 0,\n",
       " 0,\n",
       " 0,\n",
       " 0,\n",
       " 0,\n",
       " 0,\n",
       " 0,\n",
       " 0,\n",
       " 0,\n",
       " 0,\n",
       " 0,\n",
       " 0,\n",
       " 0,\n",
       " 0,\n",
       " 0,\n",
       " 0,\n",
       " 0,\n",
       " 0,\n",
       " 0,\n",
       " 0,\n",
       " 0,\n",
       " 0,\n",
       " 0,\n",
       " 0,\n",
       " 0,\n",
       " 0,\n",
       " 0,\n",
       " 0,\n",
       " 0,\n",
       " 0,\n",
       " 0,\n",
       " 0,\n",
       " 0,\n",
       " 0,\n",
       " 0,\n",
       " 0,\n",
       " 0,\n",
       " 0,\n",
       " 0,\n",
       " 0,\n",
       " 0,\n",
       " 0,\n",
       " 0,\n",
       " 0,\n",
       " 0,\n",
       " 0,\n",
       " 0,\n",
       " 0,\n",
       " 0,\n",
       " 0,\n",
       " 0,\n",
       " 0,\n",
       " 0,\n",
       " 0,\n",
       " 0,\n",
       " 0,\n",
       " 0,\n",
       " 0,\n",
       " 0,\n",
       " 0,\n",
       " 0,\n",
       " 0,\n",
       " 0,\n",
       " 0,\n",
       " 0,\n",
       " 0,\n",
       " 0,\n",
       " 0,\n",
       " 0,\n",
       " 0,\n",
       " 0,\n",
       " 0,\n",
       " 0,\n",
       " 0,\n",
       " 0,\n",
       " 0]"
      ]
     },
     "execution_count": 99,
     "metadata": {},
     "output_type": "execute_result"
    }
   ],
   "source": [
    "without_mask_test_label"
   ]
  },
  {
   "cell_type": "code",
   "execution_count": 100,
   "metadata": {},
   "outputs": [],
   "source": [
    "train_files = np.concatenate([mask_train, without_mask_train])\n",
    "validate_files = np.concatenate([mask_val, without_mask_val])\n",
    "test_files = np.concatenate([mask_test, without_mask_test])"
   ]
  },
  {
   "cell_type": "code",
   "execution_count": 62,
   "metadata": {},
   "outputs": [
    {
     "data": {
      "text/plain": [
       "1000"
      ]
     },
     "execution_count": 62,
     "metadata": {},
     "output_type": "execute_result"
    }
   ],
   "source": [
    "len(train_files)"
   ]
  },
  {
   "cell_type": "code",
   "execution_count": 102,
   "metadata": {},
   "outputs": [],
   "source": [
    "IMG_DIM = (150, 150)\n",
    "train_imgs = [img_to_array(load_img(img, target_size=IMG_DIM)) for img in train_files]\n",
    "train_imgs = np.array(train_imgs)\n",
    "train_labels = mask_train_label + without_mask_train_label"
   ]
  },
  {
   "cell_type": "code",
   "execution_count": 103,
   "metadata": {},
   "outputs": [],
   "source": [
    "validation_imgs = [img_to_array(load_img(img, target_size=IMG_DIM)) for img in validate_files]\n",
    "validation_imgs = np.array(validation_imgs)\n",
    "validation_labels = mask_val_label + without_mask_val_label"
   ]
  },
  {
   "cell_type": "code",
   "execution_count": 104,
   "metadata": {},
   "outputs": [
    {
     "data": {
      "text/plain": [
       "(176, 176)"
      ]
     },
     "execution_count": 104,
     "metadata": {},
     "output_type": "execute_result"
    }
   ],
   "source": [
    "len(validation_imgs),len(validation_labels)"
   ]
  },
  {
   "cell_type": "code",
   "execution_count": 105,
   "metadata": {},
   "outputs": [
    {
     "data": {
      "image/png": "[encoded data removed]",
      "text/plain": [
       "<PIL.Image.Image image mode=RGB size=150x150 at 0x23C2DB153C8>"
      ]
     },
     "execution_count": 105,
     "metadata": {},
     "output_type": "execute_result"
    }
   ],
   "source": [
    "load_img(train_files[1], target_size=IMG_DIM)"
   ]
  },
  {
   "cell_type": "code",
   "execution_count": 106,
   "metadata": {},
   "outputs": [
    {
     "name": "stdout",
     "output_type": "stream",
     "text": [
      "Train dataset shape: (1000, 150, 150, 3) \tValidation dataset shape: (176, 150, 150, 3)\n"
     ]
    }
   ],
   "source": [
    "print('Train dataset shape:', train_imgs.shape, \n",
    "      '\\tValidation dataset shape:', validation_imgs.shape)"
   ]
  },
  {
   "cell_type": "code",
   "execution_count": 107,
   "metadata": {},
   "outputs": [
    {
     "name": "stdout",
     "output_type": "stream",
     "text": [
      "(150, 150, 3)\n"
     ]
    },
    {
     "data": {
      "image/png": "[encoded data removed]",
      "text/plain": [
       "<PIL.Image.Image image mode=RGB size=150x150 at 0x23C2DBEC9C8>"
      ]
     },
     "execution_count": 107,
     "metadata": {},
     "output_type": "execute_result"
    }
   ],
   "source": [
    "train_imgs_scaled = train_imgs.astype('float32')\n",
    "validation_imgs_scaled  = validation_imgs.astype('float32')\n",
    "train_imgs_scaled /= 255\n",
    "validation_imgs_scaled /= 255\n",
    "\n",
    "print(train_imgs[10].shape)\n",
    "array_to_img(train_imgs[10])"
   ]
  },
  {
   "cell_type": "code",
   "execution_count": 108,
   "metadata": {},
   "outputs": [],
   "source": [
    "batch_size = 30\n",
    "num_classes = 2\n",
    "epochs = 30\n",
    "input_shape = (150, 150, 3)"
   ]
  },
  {
   "cell_type": "code",
   "execution_count": 109,
   "metadata": {},
   "outputs": [
    {
     "name": "stdout",
     "output_type": "stream",
     "text": [
      "Model: \"sequential_2\"\n",
      "_________________________________________________________________\n",
      "Layer (type)                 Output Shape              Param #   \n",
      "=================================================================\n",
      "conv2d_4 (Conv2D)            (None, 148, 148, 16)      448       \n",
      "_________________________________________________________________\n",
      "max_pooling2d_4 (MaxPooling2 (None, 74, 74, 16)        0         \n",
      "_________________________________________________________________\n",
      "conv2d_5 (Conv2D)            (None, 72, 72, 64)        9280      \n",
      "_________________________________________________________________\n",
      "max_pooling2d_5 (MaxPooling2 (None, 36, 36, 64)        0         \n",
      "_________________________________________________________________\n",
      "conv2d_6 (Conv2D)            (None, 34, 34, 128)       73856     \n",
      "_________________________________________________________________\n",
      "max_pooling2d_6 (MaxPooling2 (None, 17, 17, 128)       0         \n",
      "_________________________________________________________________\n",
      "flatten_2 (Flatten)          (None, 36992)             0         \n",
      "_________________________________________________________________\n",
      "dense_3 (Dense)              (None, 512)               18940416  \n",
      "_________________________________________________________________\n",
      "dense_4 (Dense)              (None, 1)                 513       \n",
      "=================================================================\n",
      "Total params: 19,024,513\n",
      "Trainable params: 19,024,513\n",
      "Non-trainable params: 0\n",
      "_________________________________________________________________\n"
     ]
    }
   ],
   "source": [
    "#Building the model\n",
    "\n",
    "model = Sequential()\n",
    "\n",
    "model.add(Conv2D(16, kernel_size=(3, 3), activation='relu', \n",
    "                 input_shape=input_shape))\n",
    "model.add(MaxPooling2D(pool_size=(2, 2)))\n",
    "\n",
    "model.add(Conv2D(64, kernel_size=(3, 3), activation='relu'))\n",
    "model.add(MaxPooling2D(pool_size=(2, 2)))\n",
    "\n",
    "model.add(Conv2D(128, kernel_size=(3, 3), activation='relu'))\n",
    "model.add(MaxPooling2D(pool_size=(2, 2)))\n",
    "\n",
    "model.add(Flatten())\n",
    "model.add(Dense(512, activation='relu'))\n",
    "model.add(Dense(1, activation='sigmoid'))\n",
    "\n",
    "\n",
    "model.compile(loss='binary_crossentropy',\n",
    "              optimizer=optimizers.RMSprop(),\n",
    "              metrics=['accuracy'])\n",
    "\n",
    "model.summary()"
   ]
  },
  {
   "cell_type": "code",
   "execution_count": 110,
   "metadata": {},
   "outputs": [
    {
     "name": "stdout",
     "output_type": "stream",
     "text": [
      "Train on 1000 samples, validate on 176 samples\n",
      "Epoch 1/30\n",
      "1000/1000 [==============================] - 3s 3ms/step - loss: 1.1811 - accuracy: 0.6210 - val_loss: 1.9001 - val_accuracy: 0.5114\n",
      "Epoch 2/30\n",
      "1000/1000 [==============================] - 2s 2ms/step - loss: 0.3358 - accuracy: 0.8840 - val_loss: 0.1474 - val_accuracy: 0.9545\n",
      "Epoch 3/30\n",
      "1000/1000 [==============================] - 2s 2ms/step - loss: 0.1714 - accuracy: 0.9430 - val_loss: 0.1336 - val_accuracy: 0.9659\n",
      "Epoch 4/30\n",
      "1000/1000 [==============================] - 2s 2ms/step - loss: 0.1779 - accuracy: 0.9560 - val_loss: 0.1765 - val_accuracy: 0.9489\n",
      "Epoch 5/30\n",
      "1000/1000 [==============================] - 2s 2ms/step - loss: 0.0981 - accuracy: 0.9750 - val_loss: 0.1054 - val_accuracy: 0.9716\n",
      "Epoch 6/30\n",
      "1000/1000 [==============================] - 2s 2ms/step - loss: 0.0940 - accuracy: 0.9710 - val_loss: 0.1643 - val_accuracy: 0.9602\n",
      "Epoch 7/30\n",
      "1000/1000 [==============================] - 2s 2ms/step - loss: 0.0274 - accuracy: 0.9920 - val_loss: 0.1662 - val_accuracy: 0.9830\n",
      "Epoch 8/30\n",
      "1000/1000 [==============================] - 2s 2ms/step - loss: 0.0431 - accuracy: 0.9870 - val_loss: 0.2178 - val_accuracy: 0.9773\n",
      "Epoch 9/30\n",
      "1000/1000 [==============================] - 2s 2ms/step - loss: 0.0786 - accuracy: 0.9820 - val_loss: 0.1204 - val_accuracy: 0.9716\n",
      "Epoch 10/30\n",
      "1000/1000 [==============================] - 2s 2ms/step - loss: 0.0125 - accuracy: 0.9960 - val_loss: 0.1766 - val_accuracy: 0.9830\n",
      "Epoch 11/30\n",
      "1000/1000 [==============================] - 2s 2ms/step - loss: 0.1199 - accuracy: 0.9860 - val_loss: 0.2458 - val_accuracy: 0.9716\n",
      "Epoch 12/30\n",
      "1000/1000 [==============================] - 2s 2ms/step - loss: 0.0940 - accuracy: 0.9880 - val_loss: 0.1876 - val_accuracy: 0.9773\n",
      "Epoch 13/30\n",
      "1000/1000 [==============================] - 2s 2ms/step - loss: 0.0126 - accuracy: 0.9990 - val_loss: 0.2302 - val_accuracy: 0.9773\n",
      "Epoch 14/30\n",
      "1000/1000 [==============================] - 2s 2ms/step - loss: 0.2660 - accuracy: 0.9780 - val_loss: 0.3258 - val_accuracy: 0.9716\n",
      "Epoch 15/30\n",
      "1000/1000 [==============================] - 2s 2ms/step - loss: 0.0025 - accuracy: 0.9990 - val_loss: 0.2605 - val_accuracy: 0.9773\n",
      "Epoch 16/30\n",
      "1000/1000 [==============================] - 2s 2ms/step - loss: 0.0659 - accuracy: 0.9820 - val_loss: 0.2093 - val_accuracy: 0.9773\n",
      "Epoch 17/30\n",
      "1000/1000 [==============================] - 2s 2ms/step - loss: 0.0026 - accuracy: 0.9990 - val_loss: 0.2539 - val_accuracy: 0.9716\n",
      "Epoch 18/30\n",
      "1000/1000 [==============================] - 2s 2ms/step - loss: 0.0642 - accuracy: 0.9910 - val_loss: 0.2111 - val_accuracy: 0.9773\n",
      "Epoch 19/30\n",
      "1000/1000 [==============================] - 2s 2ms/step - loss: 7.5203e-04 - accuracy: 1.0000 - val_loss: 0.2776 - val_accuracy: 0.9773\n",
      "Epoch 20/30\n",
      "1000/1000 [==============================] - 2s 2ms/step - loss: 2.4682e-05 - accuracy: 1.0000 - val_loss: 0.3251 - val_accuracy: 0.9773\n",
      "Epoch 21/30\n",
      "1000/1000 [==============================] - 2s 2ms/step - loss: 4.8070e-06 - accuracy: 1.0000 - val_loss: 0.3575 - val_accuracy: 0.9773\n",
      "Epoch 22/30\n",
      "1000/1000 [==============================] - 2s 2ms/step - loss: 1.8930e-06 - accuracy: 1.0000 - val_loss: 0.3749 - val_accuracy: 0.9773\n",
      "Epoch 23/30\n",
      "1000/1000 [==============================] - 2s 2ms/step - loss: 0.4143 - accuracy: 0.9720 - val_loss: 0.3413 - val_accuracy: 0.9659\n",
      "Epoch 24/30\n",
      "1000/1000 [==============================] - 2s 2ms/step - loss: 0.0082 - accuracy: 0.9970 - val_loss: 0.6087 - val_accuracy: 0.9716\n",
      "Epoch 25/30\n",
      "1000/1000 [==============================] - 2s 2ms/step - loss: 0.0165 - accuracy: 0.9980 - val_loss: 0.3292 - val_accuracy: 0.9773\n",
      "Epoch 26/30\n",
      "1000/1000 [==============================] - 2s 2ms/step - loss: 0.0499 - accuracy: 0.9940 - val_loss: 0.3816 - val_accuracy: 0.9545\n",
      "Epoch 27/30\n",
      "1000/1000 [==============================] - 2s 2ms/step - loss: 0.0160 - accuracy: 0.9960 - val_loss: 0.4566 - val_accuracy: 0.9716\n",
      "Epoch 28/30\n",
      "1000/1000 [==============================] - 2s 2ms/step - loss: 7.8487e-06 - accuracy: 1.0000 - val_loss: 0.4618 - val_accuracy: 0.9773\n",
      "Epoch 29/30\n",
      "1000/1000 [==============================] - 2s 2ms/step - loss: 2.8899e-06 - accuracy: 1.0000 - val_loss: 0.4602 - val_accuracy: 0.9716\n",
      "Epoch 30/30\n",
      "1000/1000 [==============================] - 2s 2ms/step - loss: 8.8263e-07 - accuracy: 1.0000 - val_loss: 0.4681 - val_accuracy: 0.9716\n"
     ]
    }
   ],
   "source": [
    "history = model.fit(x=train_imgs_scaled, y=train_labels,\n",
    "                    validation_data=(validation_imgs_scaled, validation_labels),\n",
    "                    batch_size=batch_size,\n",
    "                    epochs=epochs,\n",
    "                    verbose=1)"
   ]
  },
  {
   "cell_type": "code",
   "execution_count": 116,
   "metadata": {},
   "outputs": [
    {
     "data": {
      "image/png": "[encoded data removed]",
      "text/plain": [
       "<Figure size 864x288 with 2 Axes>"
      ]
     },
     "metadata": {
      "needs_background": "light"
     },
     "output_type": "display_data"
    }
   ],
   "source": [
    "f, (ax1, ax2) = plt.subplots(1, 2, figsize=(12, 4))\n",
    "t = f.suptitle('Model Performance', fontsize=12)\n",
    "f.subplots_adjust(top=0.85, wspace=0.3)\n",
    "\n",
    "epoch_list = list(range(1,31))\n",
    "ax1.plot(epoch_list, history.history['accuracy'], label='Train Accuracy')\n",
    "ax1.plot(epoch_list, history.history['val_accuracy'], label='Validation Accuracy')\n",
    "ax1.set_xticks(np.arange(0, 31, 5))\n",
    "ax1.set_ylabel('Accuracy Value')\n",
    "ax1.set_xlabel('Epoch')\n",
    "ax1.set_title('Accuracy')\n",
    "l1 = ax1.legend(loc=\"best\")\n",
    "\n",
    "ax2.plot(epoch_list, history.history['loss'], label='Train Loss')\n",
    "ax2.plot(epoch_list, history.history['val_loss'], label='Validation Loss')\n",
    "ax2.set_xticks(np.arange(0, 31, 5))\n",
    "ax2.set_ylabel('Loss Value')\n",
    "ax2.set_xlabel('Epoch')\n",
    "ax2.set_title('Loss')\n",
    "l2 = ax2.legend(loc=\"best\")"
   ]
  },
  {
   "cell_type": "code",
   "execution_count": 112,
   "metadata": {},
   "outputs": [
    {
     "name": "stdout",
     "output_type": "stream",
     "text": [
      "Test dataset shape: (200, 150, 150, 3)\n"
     ]
    }
   ],
   "source": [
    "IMG_DIM = (150, 150)\n",
    "\n",
    "test_imgs = [img_to_array(load_img(img, target_size=IMG_DIM)) for img in test_files]\n",
    "test_imgs = np.array(test_imgs)\n",
    "test_labels = mask_test_label + without_mask_test_label\n",
    "\n",
    "test_imgs_scaled = test_imgs.astype('float32')\n",
    "test_imgs_scaled /= 255\n",
    "\n",
    "print('Test dataset shape:', test_imgs.shape)\n"
   ]
  },
  {
   "cell_type": "code",
   "execution_count": 114,
   "metadata": {},
   "outputs": [
    {
     "name": "stdout",
     "output_type": "stream",
     "text": [
      "0.99\n"
     ]
    }
   ],
   "source": [
    "from sklearn.metrics import accuracy_score, confusion_matrix\n",
    "predictions = model.predict_classes(test_imgs_scaled, verbose=0)\n",
    "print(accuracy_score(y_true=test_labels, y_pred=predictions))\n"
   ]
  },
  {
   "cell_type": "code",
   "execution_count": 115,
   "metadata": {},
   "outputs": [
    {
     "name": "stdout",
     "output_type": "stream",
     "text": [
      "[[ 98   2]\n",
      " [  0 100]]\n"
     ]
    }
   ],
   "source": [
    "print(confusion_matrix(y_true=test_labels, y_pred=predictions))\n"
   ]
  },
  {
   "cell_type": "code",
   "execution_count": 134,
   "metadata": {},
   "outputs": [
    {
     "name": "stdout",
     "output_type": "stream",
     "text": [
      "[[1]]\n"
     ]
    },
    {
     "data": {
      "text/plain": [
       "<matplotlib.image.AxesImage at 0x23b0b832608>"
      ]
     },
     "execution_count": 134,
     "metadata": {},
     "output_type": "execute_result"
    },
    {
     "data": {
      "image/png": "[encoded data removed]",
      "text/plain": [
       "<Figure size 432x288 with 1 Axes>"
      ]
     },
     "metadata": {
      "needs_background": "light"
     },
     "output_type": "display_data"
    }
   ],
   "source": [
    "print(model.predict_classes(np.expand_dims(test_imgs_scaled[11], axis=0), verbose=0))\n",
    "\n",
    "plt.imshow(test_imgs_scaled[11])"
   ]
  },
  {
   "cell_type": "code",
   "execution_count": null,
   "metadata": {},
   "outputs": [],
   "source": []
  }
 ],
 "metadata": {
  "kernelspec": {
   "display_name": "Python 3.7 (tensorflow)",
   "language": "python",
   "name": "tensorflow"
  },
  "language_info": {
   "codemirror_mode": {
    "name": "ipython",
    "version": 3
   },
   "file_extension": ".py",
   "mimetype": "text/x-python",
   "name": "python",
   "nbconvert_exporter": "python",
   "pygments_lexer": "ipython3",
   "version": "3.7.7"
  }
 },
 "nbformat": 4,
 "nbformat_minor": 4
}
